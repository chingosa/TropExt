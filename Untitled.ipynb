{
 "cells": [
  {
   "cell_type": "code",
   "execution_count": 3,
   "id": "8441bcf1-521d-4448-874d-b7d5cfbdc3ec",
   "metadata": {},
   "outputs": [
    {
     "data": {
      "text/plain": [
       "'test_file.nc'"
      ]
     },
     "execution_count": 3,
     "metadata": {},
     "output_type": "execute_result"
    }
   ],
   "source": [
    "import xarray as xr\n",
    "import numpy as np\n",
    "\n",
    "# Create example data\n",
    "lon = np.linspace(-180, 180, 360)\n",
    "lat = np.linspace(-90, 90, 180)\n",
    "time = np.arange(0, 10)  # 10 time steps\n",
    "\n",
    "# Create a 3D variable (time, lat, lon) with random data\n",
    "data = np.random.rand(len(time), len(lat), len(lon))\n",
    "\n",
    "# Create xarray Dataset\n",
    "ds = xr.Dataset(\n",
    "    {\n",
    "        \"temperature\": ([\"time\", \"lat\", \"lon\"], data),\n",
    "    },\n",
    "    coords={\n",
    "        \"lon\": lon,\n",
    "        \"lat\": lat,\n",
    "        \"time\": time,\n",
    "    },\n",
    "    attrs={\"description\": \"Test NetCDF file created with xarray\"},\n",
    ")\n",
    "\n",
    "# Save dataset to a NetCDF file\n",
    "file_path = \"test_file.nc\"\n",
    "ds.to_netcdf(file_path)\n",
    "\n",
    "file_path\n"
   ]
  }
 ],
 "metadata": {
  "kernelspec": {
   "display_name": "RCEMIP-Analysis",
   "language": "python",
   "name": "rcemip-analysis"
  },
  "language_info": {
   "codemirror_mode": {
    "name": "ipython",
    "version": 3
   },
   "file_extension": ".py",
   "mimetype": "text/x-python",
   "name": "python",
   "nbconvert_exporter": "python",
   "pygments_lexer": "ipython3",
   "version": "3.11.9"
  }
 },
 "nbformat": 4,
 "nbformat_minor": 5
}
