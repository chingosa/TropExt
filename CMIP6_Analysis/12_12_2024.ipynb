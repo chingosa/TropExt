{
 "cells": [
  {
   "cell_type": "markdown",
   "id": "b5e40524-5b24-4a3c-9642-17c8acfa298c",
   "metadata": {},
   "source": [
    "### 12/12/2024 - First steps in the 4xCO2 model analysis\n",
    "##### Whats been done so far:\n",
    "- Models decided upon\n",
    "- Grabbed file paths for tas,huss, hurs, ps (daily and monthly)\n",
    "\n",
    "##### What still needs to happen\n",
    "- Need to look at the full theory to see if there are additional variables that I need to grab\n",
    "- Need to get the clippin info from Mike\n",
    "- Need to sort out if things would be more efficient if I download and then delete each dataset - then I'd have to have a fully integrated program to do everything\n",
    "---\n"
   ]
  },
  {
   "cell_type": "code",
   "execution_count": 1,
   "id": "8cce98d6-577a-45b0-af27-931d848d5ad1",
   "metadata": {},
   "outputs": [],
   "source": [
    "import sys\n",
    "sys.path.append('/home/users/chingosa/Functions/')\n",
    "import CMIPFuncs as func\n",
    "import numpy as np\n",
    "import xarray as xr\n",
    "import matplotlib.pyplot as plt\n",
    "import pandas as pd\n",
    "from scipy import stats \n",
    "import os\n",
    "import cftime\n",
    "import requests\n",
    "from tqdm import tqdm\n",
    "from dask.diagnostics import ProgressBar\n",
    "\n",
    "\n",
    "filePaths = pd.read_csv('CO2_4x_url_reduced_wMon.csv')\n",
    "\n"
   ]
  },
  {
   "cell_type": "code",
   "execution_count": null,
   "id": "2ac9383f-0668-4a75-bfcb-8f4c675fea6b",
   "metadata": {},
   "outputs": [],
   "source": []
  },
  {
   "cell_type": "markdown",
   "id": "92471e45-7eb4-429f-b34c-392853933c40",
   "metadata": {
    "jp-MarkdownHeadingCollapsed": true
   },
   "source": []
  },
  {
   "cell_type": "code",
   "execution_count": null,
   "id": "26ec823b-4b7f-4c50-ba7b-11952da31936",
   "metadata": {
    "scrolled": true
   },
   "outputs": [],
   "source": []
  },
  {
   "cell_type": "code",
   "execution_count": null,
   "id": "25e9095c-9311-4f23-8a5d-35a71c393693",
   "metadata": {
    "scrolled": true
   },
   "outputs": [],
   "source": []
  },
  {
   "cell_type": "code",
   "execution_count": null,
   "id": "27c2cb5b-d4ba-4cfc-8f80-d3d055a4e950",
   "metadata": {},
   "outputs": [],
   "source": []
  },
  {
   "cell_type": "code",
   "execution_count": null,
   "id": "d28bda15-fd05-40a0-aec1-f4ae4844451a",
   "metadata": {
    "scrolled": true
   },
   "outputs": [],
   "source": []
  },
  {
   "cell_type": "markdown",
   "id": "b019247a-2d51-4391-8661-aac119b14f2d",
   "metadata": {
    "editable": true,
    "scrolled": true,
    "slideshow": {
     "slide_type": ""
    },
    "tags": []
   },
   "source": []
  },
  {
   "cell_type": "code",
   "execution_count": null,
   "id": "ebf94dff-1526-4688-b7be-ce6479c80826",
   "metadata": {
    "scrolled": true
   },
   "outputs": [],
   "source": []
  },
  {
   "cell_type": "code",
   "execution_count": null,
   "id": "f16073fb-3a7e-46a3-a541-8fb42176c26a",
   "metadata": {},
   "outputs": [],
   "source": []
  },
  {
   "cell_type": "code",
   "execution_count": null,
   "id": "5c329c49-4d49-447e-98e6-329a84f99e17",
   "metadata": {
    "editable": true,
    "scrolled": true,
    "slideshow": {
     "slide_type": ""
    },
    "tags": []
   },
   "outputs": [],
   "source": []
  },
  {
   "cell_type": "code",
   "execution_count": null,
   "id": "cff4f7a8-339a-4009-86d8-755b15e91483",
   "metadata": {
    "editable": true,
    "scrolled": true,
    "slideshow": {
     "slide_type": ""
    },
    "tags": []
   },
   "outputs": [],
   "source": []
  },
  {
   "cell_type": "code",
   "execution_count": null,
   "id": "caa60784-5afc-4d2e-bc5c-c11297ccf3be",
   "metadata": {
    "editable": true,
    "slideshow": {
     "slide_type": ""
    },
    "tags": []
   },
   "outputs": [],
   "source": []
  },
  {
   "cell_type": "markdown",
   "id": "68d9899e-8310-469c-85be-0cdba643525e",
   "metadata": {
    "scrolled": true
   },
   "source": [
    "---\n",
    "# Working on time cropping - with span df\n"
   ]
  },
  {
   "cell_type": "code",
   "execution_count": 6,
   "id": "3be956c5-17df-4ab1-ac3e-2d35f0acea24",
   "metadata": {
    "scrolled": true
   },
   "outputs": [],
   "source": [
    "filePaths = pd.read_csv('CO2_4x_url_reduced_wMon.csv', index_col = None)\n",
    "\n",
    "def download(url, filename):\n",
    "    \"\"\"\n",
    "    Stolen from https://utcdw.physics.utoronto.ca/UTCDW_Guidebook/Chapter3/section3.4_climate_model_output_from_ESGF.html#downloading-data\n",
    "\n",
    "    Just a downloading script \n",
    "    Supply the dowload URLS and the filename to save to - they save directly to the local environment - would need to change this if you want to be more organizied\n",
    "    \"\"\"\n",
    "    print(\"Downloading \", filename)\n",
    "    r = requests.get(url, stream=True)\n",
    "    total_size, block_size = int(r.headers.get('content-length', 0)), 1024\n",
    "    with open(filename, 'wb') as f:\n",
    "        for data in tqdm(r.iter_content(block_size),\n",
    "                         total=total_size//block_size,\n",
    "                         unit='KiB', unit_scale=True):\n",
    "            f.write(data)\n",
    "\n",
    "    if total_size != 0 and os.path.getsize(filename) != total_size:\n",
    "        print(\"Downloaded size does not match expected size!\\n\",\n",
    "              \"FYI, the status code was \", r.status_code)\n",
    "\n",
    "\n",
    "## This is the final time cropping functionality - 6 lines that took 6 days to figure out\n",
    "def doTimeCrop(ds, model, period, span_df, filePaths):\n",
    "    '''\n",
    "    Grabs 20 years of time using cftime functionality (hopefully this works for all model)\n",
    "    the start and end of these are agreed on using the span_df which is calculated in 10_12_24\n",
    "\n",
    "    roughly 7300 points per ds depending on time dtype\n",
    "    '''\n",
    "\n",
    "    \n",
    "    mask = (span_df.model == model) & (span_df.period == period)\n",
    "    end = int(span_df.loc[mask, 'stopShared'].iloc[0])  # Extract the scalar value safely\n",
    "    mask = ((ds['time.year'] > end-20) & (ds['time.year'] <= end))\n",
    "    ds = ds.sel(time=mask)\n",
    "    ds = ds.sel(time=~ds['time'].to_index().duplicated())\n",
    "    return ds\n",
    "\n",
    "\n",
    "\n",
    "def processModel(model):\n",
    "    '''\n",
    "    Model Preprocessing for CMIP6 4xCO2 and PiControl\n",
    "\n",
    "    Grid norm is what everything is interpolated to \n",
    "    File Paths are the reduced filepaths of just the times we are interested in \n",
    "    span_df - describes the temporal coverage of models and periods - so we can select a shared 20 year period\n",
    "\n",
    "    For Each period and variable of the provided model we download the files\n",
    "    then find the 20 years of interest, then interpolate to an agreed upon grid based on the gridding of GFDL-CM4\n",
    "    then we crop to +- 40 N/S to look at the tropics\n",
    "    If we are looking at 'ps' which is a monthly variable we need to pull in another ds (tas in this case) to interpolate time to\n",
    "\n",
    "    We try and rechunk but I'm pretty sure that doesn't get saved lol\n",
    "    We save it and then delete the source files bc they are alot larger\n",
    "\n",
    "    This takes ~10 mins per model\n",
    "    '''\n",
    "    normGrid = xr.open_dataset('/badc/cmip6/data/CMIP6/ScenarioMIP/NOAA-GFDL/GFDL-CM4/ssp245/r1i1p1f1/fx/sftlf/gr1/latest/sftlf_fx_GFDL-CM4_ssp245_r1i1p1f1_gr1.nc').sftlf\n",
    "    filePaths = pd.read_csv('CO2_4x_url_reduced_wMon.csv', index_col = None)\n",
    "    span_df = pd.read_csv('span_df.csv', index_col=0)\n",
    "\n",
    "    filePaths = filePaths[filePaths.model == model].reset_index(drop=True)\n",
    "        \n",
    "        \n",
    "    for period in filePaths.period.unique():\n",
    "        for Var in ['tas', 'huss', 'hurs', 'ps']:\n",
    "\n",
    "            saveName = f'{model}_{period}_{Var}_processed.nc'\n",
    "            paths = filePaths[(filePaths['period'] == period) & (filePaths['Var'] == Var)].reset_index(drop = True)\n",
    "\n",
    "            if not os.path.exists(saveName): # Check if processed dataset has already been created\n",
    "                for i in np.arange(len(paths)):   # if it hasn't go through each path in paths\n",
    "\n",
    "                    if not os.path.exists(paths.filename[i]): # if that hasn't already been downloaded dowloadd it\n",
    "                        url = paths.download_url[i]\n",
    "                        filename = paths.filename[i]\n",
    "\n",
    "                        download(url, filename)\n",
    "            \n",
    "            \n",
    "                ds = xr.open_mfdataset(paths.filename, combine='nested', concat_dim='time', use_cftime=True)\n",
    "                ds = ds.drop_vars(['time_bnds'], errors = 'ignore')\n",
    "                ds = doTimeCrop(ds, model, period, span_df, filePaths)\n",
    "                ds = ds[Var]\n",
    "                ds = ds.interp_like(normGrid, kwargs={\"fill_value\": \"extrapolate\"}).sel(lat = slice(-40,40))\n",
    "                \n",
    "\n",
    "                if Var == 'ps':\n",
    "                    ds_tas = xr.open_dataset(f'{model}_{period}_tas_processed.nc', use_cftime=True)\n",
    "                    ds = ds.interp_like(ds_tas, kwargs={\"fill_value\": \"extrapolate\"})\n",
    "                    \n",
    "                \n",
    "                ds = ds.chunk({'time': -1, 'lat': 5})\n",
    "                \n",
    "                write_job = ds.to_netcdf(saveName, compute=False)\n",
    "                with ProgressBar():\n",
    "                    print(f\"Writing to {saveName}\")\n",
    "                    write_job.compute()\n",
    "            \n",
    "            for k in paths.filename:\n",
    "                if os.path.exists(k): os.remove(k)\n",
    "\n",
    "\n",
    "\n",
    "\n",
    "\n",
    "\n",
    "    \n",
    "\n",
    "Var = 'ps'\n",
    "model = 'GFDL-CM4'\n",
    "period = 'piControl'\n",
    "\n",
    "# ds = ds_colate(['tas'], model, period, filePaths, span_df)\n",
    "# ds = ds.chunk({'time' : -1})"
   ]
  },
  {
   "cell_type": "code",
   "execution_count": 7,
   "id": "3ae52f29-bb1f-451c-80ee-4764ce644d87",
   "metadata": {},
   "outputs": [
    {
     "name": "stdout",
     "output_type": "stream",
     "text": [
      "Writing to GFDL-CM4_abrupt-4xCO2_tas_processed.nc\n",
      "[########################################] | 100% Completed | 277.92 s\n",
      "Downloading  huss_day_GFDL-CM4_abrupt-4xCO2_r1i1p1f1_gr1_01210101-01401231.nc\n"
     ]
    },
    {
     "name": "stderr",
     "output_type": "stream",
     "text": [
      "1.08MKiB [01:58, 9.13kKiB/s]                          \n"
     ]
    },
    {
     "name": "stdout",
     "output_type": "stream",
     "text": [
      "Downloading  huss_day_GFDL-CM4_abrupt-4xCO2_r1i1p1f1_gr1_01410101-01501231.nc\n"
     ]
    },
    {
     "name": "stderr",
     "output_type": "stream",
     "text": [
      "539kKiB [00:50, 10.7kKiB/s]                          \n"
     ]
    },
    {
     "name": "stdout",
     "output_type": "stream",
     "text": [
      "Downloading  huss_day_GFDL-CM4_abrupt-4xCO2_r1i1p1f1_gr2_01210101-01401231.nc\n"
     ]
    },
    {
     "name": "stderr",
     "output_type": "stream",
     "text": [
      "284kKiB [00:23, 12.1kKiB/s]                          \n"
     ]
    },
    {
     "name": "stdout",
     "output_type": "stream",
     "text": [
      "Downloading  huss_day_GFDL-CM4_abrupt-4xCO2_r1i1p1f1_gr2_01410101-01501231.nc\n"
     ]
    },
    {
     "name": "stderr",
     "output_type": "stream",
     "text": [
      "142kKiB [00:08, 16.4kKiB/s]                          \n"
     ]
    },
    {
     "name": "stdout",
     "output_type": "stream",
     "text": [
      "Writing to GFDL-CM4_abrupt-4xCO2_huss_processed.nc\n",
      "[########################################] | 100% Completed | 273.96 s\n",
      "Downloading  hurs_day_GFDL-CM4_abrupt-4xCO2_r1i1p1f1_gr1_01210101-01401231.nc\n"
     ]
    },
    {
     "name": "stderr",
     "output_type": "stream",
     "text": [
      "1.01MKiB [01:58, 8.54kKiB/s]                          \n"
     ]
    },
    {
     "name": "stdout",
     "output_type": "stream",
     "text": [
      "Downloading  hurs_day_GFDL-CM4_abrupt-4xCO2_r1i1p1f1_gr1_01410101-01501231.nc\n"
     ]
    },
    {
     "name": "stderr",
     "output_type": "stream",
     "text": [
      "507kKiB [00:42, 11.8kKiB/s]                          \n"
     ]
    },
    {
     "name": "stdout",
     "output_type": "stream",
     "text": [
      "Downloading  hurs_day_GFDL-CM4_abrupt-4xCO2_r1i1p1f1_gr2_01210101-01401231.nc\n"
     ]
    },
    {
     "name": "stderr",
     "output_type": "stream",
     "text": [
      "267kKiB [00:45, 5.82kKiB/s]                          \n"
     ]
    },
    {
     "name": "stdout",
     "output_type": "stream",
     "text": [
      "Downloading  hurs_day_GFDL-CM4_abrupt-4xCO2_r1i1p1f1_gr2_01410101-01501231.nc\n"
     ]
    },
    {
     "name": "stderr",
     "output_type": "stream",
     "text": [
      "134kKiB [00:08, 15.1kKiB/s]                          \n"
     ]
    },
    {
     "name": "stdout",
     "output_type": "stream",
     "text": [
      "Writing to GFDL-CM4_abrupt-4xCO2_hurs_processed.nc\n",
      "[########################################] | 100% Completed | 288.01 s\n",
      "Downloading  ps_AERmon_GFDL-CM4_abrupt-4xCO2_r1i1p1f1_gr1_010101-015012.nc\n"
     ]
    },
    {
     "name": "stderr",
     "output_type": "stream",
     "text": [
      "69.3kKiB [00:08, 8.10kKiB/s]                          \n"
     ]
    },
    {
     "name": "stdout",
     "output_type": "stream",
     "text": [
      "Writing to GFDL-CM4_abrupt-4xCO2_ps_processed.nc\n",
      "[########################################] | 100% Completed | 69.63 s\n",
      "Downloading  tas_day_GFDL-CM4_piControl_r1i1p1f1_gr1_06110101-06301231.nc\n"
     ]
    },
    {
     "name": "stderr",
     "output_type": "stream",
     "text": [
      "850kKiB [00:08, 105kKiB/s]                           \n"
     ]
    },
    {
     "name": "stdout",
     "output_type": "stream",
     "text": [
      "Downloading  tas_day_GFDL-CM4_piControl_r1i1p1f1_gr1_06310101-06501231.nc\n"
     ]
    },
    {
     "name": "stderr",
     "output_type": "stream",
     "text": [
      "850kKiB [00:07, 114kKiB/s]                           \n"
     ]
    },
    {
     "name": "stdout",
     "output_type": "stream",
     "text": [
      "Downloading  tas_day_GFDL-CM4_piControl_r1i1p1f1_gr2_06110101-06301231.nc\n"
     ]
    },
    {
     "name": "stderr",
     "output_type": "stream",
     "text": [
      "227kKiB [00:02, 102kKiB/s]                           \n"
     ]
    },
    {
     "name": "stdout",
     "output_type": "stream",
     "text": [
      "Downloading  tas_day_GFDL-CM4_piControl_r1i1p1f1_gr2_06310101-06501231.nc\n"
     ]
    },
    {
     "name": "stderr",
     "output_type": "stream",
     "text": [
      "227kKiB [00:02, 96.1kKiB/s]                          \n"
     ]
    },
    {
     "name": "stdout",
     "output_type": "stream",
     "text": [
      "Writing to GFDL-CM4_piControl_tas_processed.nc\n",
      "[########################################] | 100% Completed | 297.65 s\n",
      "Downloading  huss_day_GFDL-CM4_piControl_r1i1p1f1_gr1_06110101-06301231.nc\n"
     ]
    },
    {
     "name": "stderr",
     "output_type": "stream",
     "text": [
      "1.09MKiB [00:09, 115kKiB/s]                           \n"
     ]
    },
    {
     "name": "stdout",
     "output_type": "stream",
     "text": [
      "Downloading  huss_day_GFDL-CM4_piControl_r1i1p1f1_gr1_06310101-06501231.nc\n"
     ]
    },
    {
     "name": "stderr",
     "output_type": "stream",
     "text": [
      "1.09MKiB [00:09, 113kKiB/s]                           \n"
     ]
    },
    {
     "name": "stdout",
     "output_type": "stream",
     "text": [
      "Downloading  huss_day_GFDL-CM4_piControl_r1i1p1f1_gr2_06110101-06301231.nc\n"
     ]
    },
    {
     "name": "stderr",
     "output_type": "stream",
     "text": [
      "287kKiB [00:02, 105kKiB/s]                           \n"
     ]
    },
    {
     "name": "stdout",
     "output_type": "stream",
     "text": [
      "Downloading  huss_day_GFDL-CM4_piControl_r1i1p1f1_gr2_06310101-06501231.nc\n"
     ]
    },
    {
     "name": "stderr",
     "output_type": "stream",
     "text": [
      "287kKiB [00:02, 107kKiB/s]                           \n"
     ]
    },
    {
     "name": "stdout",
     "output_type": "stream",
     "text": [
      "Writing to GFDL-CM4_piControl_huss_processed.nc\n",
      "[########################################] | 100% Completed | 303.90 s\n",
      "Downloading  hurs_day_GFDL-CM4_piControl_r1i1p1f1_gr1_06110101-06301231.nc\n"
     ]
    },
    {
     "name": "stderr",
     "output_type": "stream",
     "text": [
      "1.02MKiB [00:10, 99.2kKiB/s]                          \n"
     ]
    },
    {
     "name": "stdout",
     "output_type": "stream",
     "text": [
      "Downloading  hurs_day_GFDL-CM4_piControl_r1i1p1f1_gr1_06310101-06501231.nc\n"
     ]
    },
    {
     "name": "stderr",
     "output_type": "stream",
     "text": [
      "1.02MKiB [00:10, 95.2kKiB/s]                          \n"
     ]
    },
    {
     "name": "stdout",
     "output_type": "stream",
     "text": [
      "Downloading  hurs_day_GFDL-CM4_piControl_r1i1p1f1_gr2_06110101-06301231.nc\n"
     ]
    },
    {
     "name": "stderr",
     "output_type": "stream",
     "text": [
      "267kKiB [00:02, 110kKiB/s]                           \n"
     ]
    },
    {
     "name": "stdout",
     "output_type": "stream",
     "text": [
      "Downloading  hurs_day_GFDL-CM4_piControl_r1i1p1f1_gr2_06310101-06501231.nc\n"
     ]
    },
    {
     "name": "stderr",
     "output_type": "stream",
     "text": [
      "267kKiB [00:03, 78.2kKiB/s]                           \n"
     ]
    },
    {
     "name": "stdout",
     "output_type": "stream",
     "text": [
      "Writing to GFDL-CM4_piControl_hurs_processed.nc\n",
      "[########################################] | 100% Completed | 301.51 s\n",
      "Downloading  ps_AERmon_GFDL-CM4_piControl_r1i1p1f1_gr1_055101-065012.nc\n"
     ]
    },
    {
     "name": "stderr",
     "output_type": "stream",
     "text": [
      "139kKiB [00:13, 10.2kKiB/s]                          \n"
     ]
    },
    {
     "name": "stdout",
     "output_type": "stream",
     "text": [
      "Writing to GFDL-CM4_piControl_ps_processed.nc\n",
      "[########################################] | 100% Completed | 68.97 s\n"
     ]
    }
   ],
   "source": [
    "processModel(model)"
   ]
  },
  {
   "cell_type": "code",
   "execution_count": 2,
   "id": "bf85fa9e-b756-421e-ad0e-bd08b988f142",
   "metadata": {},
   "outputs": [
    {
     "data": {
      "text/plain": [
       "array(['ACCESS-CM2', 'ACCESS-ESM1-5', 'CESM2', 'CESM2-FV2', 'CESM2-WACCM',\n",
       "       'CESM2-WACCM-FV2', 'CMCC-CM2-SR5', 'CMCC-ESM2', 'CNRM-CM6-1',\n",
       "       'CNRM-CM6-1-HR', 'CNRM-ESM2-1', 'CanESM5', 'EC-Earth3',\n",
       "       'EC-Earth3-CC', 'EC-Earth3-Veg-LR', 'GFDL-CM4', 'HadGEM3-GC31-LL',\n",
       "       'HadGEM3-GC31-MM', 'IITM-ESM', 'IPSL-CM5A2-INCA', 'KIOST-ESM',\n",
       "       'MIROC-ES2H', 'MIROC-ES2L', 'MIROC6', 'NorESM2-LM', 'NorESM2-MM',\n",
       "       'SAM0-UNICON', 'TaiESM1', 'UKESM1-0-LL'], dtype=object)"
      ]
     },
     "execution_count": 2,
     "metadata": {},
     "output_type": "execute_result"
    }
   ],
   "source": [
    "filePaths.model.unique()"
   ]
  },
  {
   "cell_type": "code",
   "execution_count": null,
   "id": "d84e6844-3e82-4019-86d9-468df410a0cd",
   "metadata": {},
   "outputs": [],
   "source": []
  },
  {
   "cell_type": "code",
   "execution_count": 2,
   "id": "5779adcf-50db-411b-a9df-aef8c5fdaf00",
   "metadata": {
    "scrolled": true
   },
   "outputs": [],
   "source": [
    "ds = xr.open_mfdataset(['ACCESS-CM2_abrupt-4xCO2_ps_processed.nc',\n",
    "                   'ACCESS-CM2_abrupt-4xCO2_huss_processed.nc', \n",
    "                   'ACCESS-CM2_abrupt-4xCO2_hurs_processed.nc', \n",
    "                   'ACCESS-CM2_abrupt-4xCO2_tas_processed.nc'], use_cftime=True)"
   ]
  },
  {
   "cell_type": "code",
   "execution_count": null,
   "id": "296ad2d3-8d39-43b7-a6b4-5627aa979300",
   "metadata": {},
   "outputs": [
    {
     "data": {
      "text/plain": [
       "<matplotlib.collections.QuadMesh at 0x7f2293ba4390>"
      ]
     },
     "execution_count": 4,
     "metadata": {},
     "output_type": "execute_result"
    }
   ],
   "source": [
    "ds.tas.mean('time').plot()"
   ]
  },
  {
   "cell_type": "code",
   "execution_count": 3,
   "id": "42ffc71c-744e-4673-8530-aca708d36b6e",
   "metadata": {},
   "outputs": [
    {
     "data": {
      "text/plain": [
       "array(325.07022, dtype=float32)"
      ]
     },
     "execution_count": 3,
     "metadata": {},
     "output_type": "execute_result"
    }
   ],
   "source": [
    "ds.tas.max().values"
   ]
  },
  {
   "cell_type": "code",
   "execution_count": null,
   "id": "c6b29f90-a8ea-46b3-b001-36e1f9a7c170",
   "metadata": {},
   "outputs": [],
   "source": []
  }
 ],
 "metadata": {
  "kernelspec": {
   "display_name": "RCEMIP-Analysis",
   "language": "python",
   "name": "rcemip-analysis"
  },
  "language_info": {
   "codemirror_mode": {
    "name": "ipython",
    "version": 3
   },
   "file_extension": ".py",
   "mimetype": "text/x-python",
   "name": "python",
   "nbconvert_exporter": "python",
   "pygments_lexer": "ipython3",
   "version": "3.11.9"
  }
 },
 "nbformat": 4,
 "nbformat_minor": 5
}
