{
 "cells": [
  {
   "cell_type": "markdown",
   "id": "d38276b1-d2d1-400d-b316-9a66b6727399",
   "metadata": {},
   "source": [
    "### Understanding the whole theory:\n",
    "---\n",
    "\n",
    "$$\\delta T_L^x = (\\dfrac{1}{1+\\epsilon})\\left(\\overbrace{\\gamma^{T_O}\\delta T_O}^{\\delta T_O \\text{ component}} + \\underbrace{\\gamma^{r_O}\\delta r_O}_{\\delta r_O \\text{ component}} + \\overbrace{[\\epsilon / \\alpha _L][\\delta r_L^x - \\overline{\\delta r_L} \\overline{q_{L,sat}} / q^x_{L,sat}]}^{\\Delta h \\text{ component}}\\right) \\underbrace{- \\left(\\dfrac{1}{1+\\epsilon}\\right)[\\epsilon / \\alpha _L]\\delta r_L^x}_{\\delta r_L \\text{ component}}$$"
   ]
  },
  {
   "cell_type": "markdown",
   "id": "2f2661cd-cf91-4042-a7ba-14e1ffa783a3",
   "metadata": {},
   "source": [
    "The $\\Delta h$ component and $\\delta r_L$ component can simplify to a $\\delta _L^{total}$ component:\n",
    "\n",
    "$$\\delta _L^{total} \\text{ comp} = \\Delta h + \\delta r_L \\text{ comp} = -\\left(\\dfrac{1}{1+\\epsilon \\delta r_L^x}\\right) \\eta \\delta \\overline{r_L}$$\n",
    "\n",
    "with $\\eta = (\\dfrac{\\epsilon}{\\alpha_L})(\\overline{q_{L,sat}}{q_{L,sat}^x})$... however assuminng that changes in relative humidity are constant overland ie that $\\delta r_L^x = \\delta \\overline{r_L}$"
   ]
  },
  {
   "cell_type": "markdown",
   "id": "6e83f193-7975-4e5c-a0e0-e4c2efb909dd",
   "metadata": {},
   "source": [
    "we get the final form for $\\gamma ^{r_L} = - \\dfrac{\\eta}{100+\\epsilon}$"
   ]
  },
  {
   "cell_type": "markdown",
   "id": "aeb2bfa2-8ab8-411d-a67d-6e5f77474724",
   "metadata": {},
   "source": [
    "$\\gamma ^{T_O} = \\dfrac{c_p + L_v \\alpha_O q_o}{c_p + L_v \\alpha_L q_L^x}$\n",
    "\n",
    "$\\gamma ^{r_O} = \\dfrac{L_v q_{O,sat}}{c_p+L_v \\alpha q_L^x}$\n",
    "\n",
    "$ \\epsilon = \\dfrac{L_v \\alpha _L q_{L,sat}^x}{\\left(c_p + L_v \\alpha_L q_L\\right)}$\n",
    "\n",
    "$\\eta = \\left(\\dfrac{q_{L,sat}}{q_{L,sat}^x}\\right) \\left(\\dfrac{\\epsilon}{\\alpha _L}\\right)$"
   ]
  }
 ],
 "metadata": {
  "kernelspec": {
   "display_name": "RCEMIP-Analysis",
   "language": "python",
   "name": "rcemip-analysis"
  },
  "language_info": {
   "codemirror_mode": {
    "name": "ipython",
    "version": 3
   },
   "file_extension": ".py",
   "mimetype": "text/x-python",
   "name": "python",
   "nbconvert_exporter": "python",
   "pygments_lexer": "ipython3",
   "version": "3.11.9"
  }
 },
 "nbformat": 4,
 "nbformat_minor": 5
}
