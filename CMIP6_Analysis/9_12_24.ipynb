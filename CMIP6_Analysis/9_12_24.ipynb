{
 "cells": [
  {
   "cell_type": "markdown",
   "id": "cdcc514a-20e8-48ed-93ef-e8eebe80834a",
   "metadata": {},
   "source": [
    "# 06/12/2024 New Analysis Goals...\n",
    "\n",
    "# this got consolidated and tidied up into 12_12_24.ipynb\n",
    "\n",
    "#### Goals:\n",
    "- Exansion of dimensions to +/- 40 lat\n",
    "- Do the 4xCO2 thing (ahhhhhh)\n",
    "- Understand the rest of the theory\n",
    "- Do the other flavor of the theory"
   ]
  },
  {
   "cell_type": "markdown",
   "id": "2ad8a0fc-e07e-4009-9f86-2aa0b260c012",
   "metadata": {},
   "source": [
    "## Step One: Flush Out 4xCO2 Models"
   ]
  },
  {
   "cell_type": "code",
   "execution_count": 1,
   "id": "150c4403-c863-4181-a2ff-895c51abc1dd",
   "metadata": {},
   "outputs": [],
   "source": [
    "import sys\n",
    "sys.path.append('/home/users/chingosa/Functions/')\n",
    "import CMIPFuncs as func\n",
    "import numpy as np\n",
    "import xarray as xr\n",
    "import matplotlib.pyplot as plt\n",
    "import pandas as pd\n",
    "from scipy import stats \n",
    "import os\n",
    "\n",
    "from pyesgf.search import SearchConnection\n",
    "os.environ[\"ESGF_PYCLIENT_NO_FACETS_STAR_WARNING\"] = \"on\"\n",
    "# conn = SearchConnection('https://esgf-node.llnl.gov/esg-search', distrib=True)\n",
    "\n",
    "conn = SearchConnection('https://esgf.ceda.ac.uk/esg-search', distrib=True) #UK one\n",
    "# conn = SearchConnection('https://esgf-data.dkrz.de/esg-search', distrib=True)  #US one"
   ]
  },
  {
   "cell_type": "code",
   "execution_count": 2,
   "id": "fa56bc23-998f-4618-b5ec-86cbb060c932",
   "metadata": {
    "scrolled": true
   },
   "outputs": [
    {
     "data": {
      "text/plain": [
       "['TaiESM1',\n",
       " 'AWI-CM-1-1-MR',\n",
       " 'AWI-ESM-1-1-LR',\n",
       " 'BCC-CSM2-MR',\n",
       " 'BCC-ESM1',\n",
       " 'CAMS-CSM1-0',\n",
       " 'CAS-ESM2-0',\n",
       " 'FGOALS-f3-L',\n",
       " 'FGOALS-g3',\n",
       " 'IITM-ESM',\n",
       " 'CanESM5',\n",
       " 'CanESM5-CanOE',\n",
       " 'CMCC-CM2-HR4',\n",
       " 'CMCC-CM2-SR5',\n",
       " 'CMCC-ESM2',\n",
       " 'CNRM-CM6-1',\n",
       " 'CNRM-CM6-1-HR',\n",
       " 'CNRM-ESM2-1',\n",
       " 'ACCESS-ESM1-5',\n",
       " 'ACCESS-CM2',\n",
       " 'E3SM-1-0',\n",
       " 'E3SM-1-1',\n",
       " 'E3SM-1-1-ECA',\n",
       " 'E3SM-2-0',\n",
       " 'EC-Earth3',\n",
       " 'EC-Earth3-AerChem',\n",
       " 'EC-Earth3-CC',\n",
       " 'EC-Earth3-LR',\n",
       " 'EC-Earth3-Veg',\n",
       " 'EC-Earth3-Veg-LR',\n",
       " 'EC-Earth3P-VHR',\n",
       " 'FIO-ESM-2-0',\n",
       " 'MPI-ESM-1-2-HAM',\n",
       " 'INM-CM4-8',\n",
       " 'INM-CM5-0',\n",
       " 'IPSL-CM5A2-INCA',\n",
       " 'IPSL-CM6A-LR',\n",
       " 'IPSL-CM6A-LR-INCA',\n",
       " 'KIOST-ESM',\n",
       " 'MIROC-ES2H',\n",
       " 'MIROC-ES2L',\n",
       " 'MIROC6',\n",
       " 'HadGEM3-GC31-LL',\n",
       " 'HadGEM3-GC31-MM',\n",
       " 'UKESM1-0-LL',\n",
       " 'UKESM1-1-LL',\n",
       " 'ICON-ESM-LR',\n",
       " 'MPI-ESM1-2-HR',\n",
       " 'MPI-ESM1-2-LR',\n",
       " 'MRI-ESM2-0',\n",
       " 'GISS-E2-1-G',\n",
       " 'GISS-E2-1-G-CC',\n",
       " 'GISS-E2-1-H',\n",
       " 'GISS-E2-2-G',\n",
       " 'GISS-E2-2-H',\n",
       " 'CESM2',\n",
       " 'CESM2-FV2',\n",
       " 'CESM2-WACCM',\n",
       " 'CESM2-WACCM-FV2',\n",
       " 'NorCPM1',\n",
       " 'NorESM1-F',\n",
       " 'NorESM2-LM',\n",
       " 'NorESM2-MM',\n",
       " 'KACE-1-0-G',\n",
       " 'UKESM1-0-LL',\n",
       " 'GFDL-AM4',\n",
       " 'GFDL-CM4',\n",
       " 'GFDL-ESM4',\n",
       " 'NESM3',\n",
       " 'SAM0-UNICON',\n",
       " 'CIESM',\n",
       " 'MCM-UA-1-0']"
      ]
     },
     "execution_count": 2,
     "metadata": {},
     "output_type": "execute_result"
    }
   ],
   "source": [
    "Agencies = os.listdir(f'/badc/cmip6/data/CMIP6/CMIP/')\n",
    "\n",
    "Models = [os.listdir(f'/badc/cmip6/data/CMIP6/CMIP/{Agency}') for Agency in Agencies]\n",
    "out = []\n",
    "for sublist in Models:\n",
    "    out.extend(sublist)\n",
    "\n",
    "out\n",
    "# for i, j in zip(Agencies, Models):\n",
    "#     print(i, j)"
   ]
  },
  {
   "cell_type": "code",
   "execution_count": 63,
   "id": "dbfa8681-3dec-43b6-af43-e0e71ac49867",
   "metadata": {},
   "outputs": [],
   "source": [
    "valid_combinations = []\n",
    "o = 0\n",
    "# Loop through i and j\n",
    "for i in Agencies:  # Assuming `Agencies` is a list of agency names\n",
    "    for j in os.listdir(f'/badc/cmip6/data/CMIP6/CMIP/{i}'):\n",
    "        o+=1\n",
    "        # Get the directory path for the combination of i and j\n",
    "        directory_path = f'/badc/cmip6/data/CMIP6/CMIP/{i}/{j}'\n",
    "        \n",
    "        # Check if both `piControl` and `abrupt-4xCO2` exist in the directory\n",
    "        if {'piControl', 'abrupt-4xCO2'}.issubset(os.listdir(directory_path)):\n",
    "            # Check that we have a valid combination of \n",
    "            if {'r1i1p1f1'}.issubset(os.listdir(f'/badc/cmip6/data/CMIP6/CMIP/{i}/{j}/piControl')) and {'r1i1p1f1'}.issubset(os.listdir(f'/badc/cmip6/data/CMIP6/CMIP/{i}/{j}/abrupt-4xCO2')):\n",
    "                if {'day'}.issubset(os.listdir(f'/badc/cmip6/data/CMIP6/CMIP/{i}/{j}/abrupt-4xCO2/r1i1p1f1')):\n",
    "                    valid_combinations.append((i, j, 'r1i1p1f1'))\n",
    "\n"
   ]
  },
  {
   "cell_type": "code",
   "execution_count": 64,
   "id": "49ce104c-ec3f-45e8-b20e-3db313531a4a",
   "metadata": {},
   "outputs": [
    {
     "data": {
      "text/plain": [
       "35"
      ]
     },
     "execution_count": 64,
     "metadata": {},
     "output_type": "execute_result"
    }
   ],
   "source": [
    "len(valid_combinations)"
   ]
  },
  {
   "cell_type": "code",
   "execution_count": 67,
   "id": "10c4c748-5784-4b3f-8e55-62ea7a102acc",
   "metadata": {},
   "outputs": [],
   "source": [
    "o = 0\n",
    "for i in np.arange(len(valid_combinations)):\n",
    "    \n",
    "    if {'tas'}.issubset(os.listdir(f'/badc/cmip6/data/CMIP6/CMIP/{valid_combinations[i][0]}/{valid_combinations[i][1]}/abrupt-4xCO2/{valid_combinations[i][2]}/day')):\n",
    "        o += 1\n",
    "    \n",
    "o"
   ]
  },
  {
   "cell_type": "code",
   "execution_count": 79,
   "id": "08b3525c-efa9-4b58-a0d9-fde04367471f",
   "metadata": {
    "scrolled": true
   },
   "outputs": [
    {
     "name": "stdout",
     "output_type": "stream",
     "text": [
      "Amon\n",
      "['clivi', 'clt', 'clwvi', 'hfls', 'hfss', 'huss', 'pr', 'prc', 'ps', 'rlut', 'rlutcs', 'rsdt', 'rsut', 'rsutcs', 'tas', 'tauu', 'tauv', 'ts', 'wap']\n",
      "Amon\n",
      "['clivi', 'clt', 'clwvi', 'hfls', 'hfss', 'hur', 'hus', 'huss', 'pr', 'prc', 'ps', 'psl', 'rlut', 'rlutcs', 'rsdt', 'rsut', 'rsutcs', 'ta', 'tas', 'tasmax', 'tasmin', 'tauu', 'tauv', 'ts', 'ua', 'va', 'wap', 'zg']\n",
      "Amon\n",
      "['clivi', 'clt', 'clwvi', 'hfls', 'hfss', 'huss', 'pr', 'ps', 'rlut', 'rlutcs', 'rsdt', 'rsut', 'rsutcs', 'tas', 'tauu', 'tauv', 'ts', 'wap']\n",
      "Amon\n",
      "['clivi', 'clt', 'clwvi', 'hfls', 'hfss', 'huss', 'pr', 'prc', 'ps', 'rlut', 'rlutcs', 'rsdt', 'rsut', 'rsutcs', 'tas', 'tauu', 'tauv', 'ts', 'wap']\n",
      "Amon\n",
      "['clivi', 'clt', 'clwvi', 'hfls', 'hfss', 'huss', 'pr', 'prc', 'ps', 'rlut', 'rlutcs', 'rsdt', 'rsut', 'rsutcs', 'tas', 'tauu', 'tauv', 'ts', 'wap']\n",
      "Amon\n",
      "['clivi', 'clt', 'clwvi', 'hfls', 'hfss', 'huss', 'pr', 'prc', 'ps', 'rlut', 'rlutcs', 'rsdt', 'rsut', 'rsutcs', 'tas', 'tauu', 'tauv', 'ts', 'wap']\n",
      "Amon\n",
      "['clivi', 'clt', 'clwvi', 'hfls', 'hfss', 'huss', 'pr', 'prc', 'ps', 'rlut', 'rlutcs', 'rsdt', 'rsut', 'rsutcs', 'tas', 'tauu', 'tauv', 'ts', 'wap']\n",
      "Amon\n",
      "['clivi', 'clt', 'evspsbl', 'hfls', 'hfss', 'hurs', 'hus', 'huss', 'pr', 'prc', 'prsn', 'prw', 'ps', 'psl', 'rlds', 'rlus', 'rlut', 'rlutcs', 'rsds', 'rsdscs', 'rsdt', 'rsus', 'rsuscs', 'rsut', 'rsutcs', 'rtmt', 'sbl', 'ta', 'tas', 'tasmax', 'tasmin', 'tauu', 'tauv', 'ts', 'ua', 'uas', 'va', 'vas', 'wap', 'zg']\n",
      "day\n",
      "['huss', 'mrso', 'mrsos', 'pr', 'psl', 'tas', 'tasmax', 'tasmin', 'ua', 'va']\n",
      "Amon\n",
      "['clivi', 'clt', 'evspsbl', 'hfls', 'hfss', 'hurs', 'hus', 'huss', 'pr', 'prc', 'prsn', 'prw', 'ps', 'psl', 'rlds', 'rlus', 'rlut', 'rlutcs', 'rsds', 'rsdscs', 'rsdt', 'rsus', 'rsuscs', 'rsut', 'rsutcs', 'rtmt', 'sbl', 'ta', 'tas', 'tasmax', 'tasmin', 'tauu', 'tauv', 'ts', 'ua', 'uas', 'va', 'vas', 'wap', 'zg']\n",
      "day\n",
      "['hurs', 'huss', 'mrso', 'mrsos', 'pr', 'psl', 'tas', 'tasmax', 'tasmin', 'ua', 'va']\n",
      "Amon\n",
      "['cli', 'clivi', 'clt', 'clw', 'clwvi', 'hfls', 'hfss', 'huss', 'pr', 'prc', 'ps', 'rlut', 'rlutcs', 'rsdt', 'rsut', 'rsutcs', 'ta', 'tas', 'tauu', 'tauv', 'ts', 'wap']\n",
      "Amon\n",
      "['clivi', 'clt', 'clwvi', 'hfls', 'hfss', 'huss', 'pr', 'prc', 'ps', 'rlut', 'rlutcs', 'rsdt', 'rsut', 'rsutcs', 'tas', 'tauu', 'tauv', 'ts', 'wap']\n",
      "Amon\n",
      "['clivi', 'clt', 'clwvi', 'evspsbl', 'hfls', 'hfss', 'hur', 'hus', 'huss', 'pr', 'prc', 'prsn', 'prw', 'ps', 'psl', 'rlds', 'rldscs', 'rlut', 'rlutcs', 'rsds', 'rsdscs', 'rsdt', 'rsut', 'rsutcs', 'rtmt', 'ta', 'tas', 'tasmax', 'tasmin', 'tauu', 'tauv', 'ts', 'ua', 'va', 'wap', 'zg']\n",
      "Amon\n",
      "['clivi', 'clt', 'clwvi', 'hfls', 'hfss', 'huss', 'pr', 'prc', 'ps', 'rlut', 'rlutcs', 'rsdt', 'rsut', 'rsutcs', 'tas', 'tauu', 'tauv', 'ts', 'wap']\n",
      "Amon\n",
      "['clivi', 'clt', 'clwvi', 'hfls', 'hfss', 'huss', 'pr', 'prc', 'ps', 'rlut', 'rlutcs', 'rsdt', 'rsut', 'rsutcs', 'tas', 'tauu', 'tauv', 'ts', 'wap']\n",
      "Amon\n",
      "['clivi', 'clt', 'clwvi', 'hfls', 'hfss', 'huss', 'pr', 'prc', 'ps', 'rlut', 'rlutcs', 'rsdt', 'rsut', 'rsutcs', 'tas', 'tauu', 'tauv', 'ts', 'wap']\n",
      "Amon\n",
      "['clivi', 'clwvi', 'huss', 'pr', 'prc', 'ps', 'rlut', 'rlutcs', 'rsdt', 'rsut', 'rsutcs', 'tas', 'ts', 'wap']\n",
      "Amon\n",
      "['ccb', 'cct', 'cfc11global', 'cfc12global', 'ch4global', 'ci', 'cl', 'cli', 'clivi', 'clt', 'clw', 'clwvi', 'co2mass', 'evspsbl', 'hfls', 'hfss', 'hur', 'hurs', 'hus', 'huss', 'mc', 'n2oglobal', 'o3', 'pfull', 'phalf', 'pr', 'prc', 'prsn', 'prw', 'ps', 'psl', 'rlds', 'rldscs', 'rlus', 'rlut', 'rlutcs', 'rsds', 'rsdscs', 'rsdt', 'rsus', 'rsuscs', 'rsut', 'rsutcs', 'rtmt', 'sci', 'sfcWind', 'ta', 'tas', 'tasmax', 'tasmin', 'tauu', 'tauv', 'ts', 'ua', 'uas', 'va', 'vas', 'wap', 'zg']\n",
      "day\n",
      "['hfls', 'huss', 'pr', 'psl', 'rlut', 'sfcWind', 'tas', 'tasmax', 'tasmin']\n",
      "Amon\n",
      "['ccb', 'cct', 'cl', 'cli', 'clivi', 'clt', 'clw', 'clwvi', 'evspsbl', 'hfls', 'hfss', 'hur', 'hurs', 'hus', 'huss', 'mc', 'pr', 'prc', 'prsn', 'prw', 'ps', 'psl', 'rlds', 'rldscs', 'rlus', 'rlut', 'rlutcs', 'rsds', 'rsdscs', 'rsdt', 'rsus', 'rsuscs', 'rsut', 'rsutcs', 'rtmt', 'sfcWind', 'ta', 'tas', 'tasmax', 'tasmin', 'tauu', 'tauv', 'ts', 'ua', 'uas', 'va', 'vas', 'wap', 'zg']\n",
      "Amon\n",
      "['clivi', 'clt', 'clwvi', 'hfls', 'hfss', 'huss', 'pr', 'prc', 'ps', 'rlut', 'rlutcs', 'rsdt', 'rsut', 'rsutcs', 'tas', 'tauu', 'tauv', 'ts', 'wap']\n",
      "Amon\n",
      "['clivi', 'clt', 'clwvi', 'hfls', 'hfss', 'huss', 'pr', 'prc', 'ps', 'rlut', 'rlutcs', 'rsdt', 'rsut', 'rsutcs', 'tas', 'tauu', 'tauv', 'ts', 'wap']\n",
      "Amon\n",
      "['ccb', 'cct', 'ch4', 'ci', 'cl', 'cli', 'clivi', 'clt', 'clw', 'clwvi', 'co2', 'evspsbl', 'hfls', 'hfss', 'hur', 'hurs', 'hus', 'huss', 'mc', 'n2o', 'o3', 'pr', 'prc', 'prsn', 'prw', 'ps', 'psl', 'rlds', 'rldscs', 'rlus', 'rlut', 'rlutcs', 'rsds', 'rsdscs', 'rsdt', 'rsus', 'rsuscs', 'rsut', 'rsutcs', 'sbl', 'sfcWind', 'ta', 'tas', 'tasmax', 'tasmin', 'tauu', 'tauv', 'ts', 'ua', 'uas', 'va', 'vas', 'wap', 'zg']\n",
      "Amon\n",
      "['cli', 'clivi', 'clt', 'clw', 'clwvi', 'co2', 'evspsbl', 'hfls', 'hfss', 'hur', 'hus', 'huss', 'o3', 'pr', 'prc', 'prw', 'ps', 'psl', 'rlds', 'rldscs', 'rlut', 'rlutcs', 'rsds', 'rsdscs', 'rsdt', 'rsut', 'rsutcs', 'rtmt', 'ta', 'tas', 'tauu', 'tauv', 'ts', 'ua', 'va', 'wap', 'zg']\n",
      "Amon\n",
      "['clivi', 'clt', 'clwvi', 'hfls', 'hfss', 'huss', 'pr', 'prc', 'ps', 'rlut', 'rlutcs', 'rsdt', 'rsut', 'rsutcs', 'tas', 'tauu', 'tauv', 'ts', 'wap']\n",
      "Amon\n",
      "['ch4', 'cli', 'clivi', 'clt', 'clw', 'clwvi', 'co2', 'evspsbl', 'hfls', 'hfss', 'hur', 'hus', 'huss', 'o3', 'pr', 'prc', 'prw', 'ps', 'psl', 'rlds', 'rldscs', 'rlut', 'rlutcs', 'rsds', 'rsdscs', 'rsdt', 'rsut', 'rsutcs', 'rtmt', 'ta', 'tas', 'tauu', 'tauv', 'ts', 'ua', 'va', 'wap', 'zg']\n",
      "Amon\n",
      "['clivi', 'clt', 'clwvi', 'hfls', 'hfss', 'huss', 'pr', 'prc', 'ps', 'rlut', 'rlutcs', 'rsdt', 'rsut', 'rsutcs', 'tas', 'tauu', 'tauv', 'ts', 'wap']\n",
      "Amon\n",
      "['clivi', 'clt', 'clwvi', 'hfls', 'hfss', 'huss', 'pr', 'prc', 'ps', 'rlut', 'rlutcs', 'rsdt', 'rsut', 'rsutcs', 'tas', 'tauu', 'tauv', 'ts', 'wap']\n",
      "Amon\n",
      "['cli', 'clivi', 'clt', 'clw', 'clwvi', 'evspsbl', 'hfls', 'hfss', 'hur', 'hus', 'huss', 'o3', 'pr', 'prc', 'prsn', 'prw', 'ps', 'psl', 'rlds', 'rldscs', 'rlut', 'rlutcs', 'rsds', 'rsdscs', 'rsdt', 'rsut', 'rsutcs', 'rtmt', 'ta', 'tas', 'tasmax', 'tasmin', 'tauu', 'tauv', 'ts', 'ua', 'va', 'wap', 'zg']\n",
      "Amon\n",
      "['clivi', 'clt', 'clwvi', 'hfls', 'hfss', 'hus', 'huss', 'pr', 'prsn', 'prw', 'ps', 'psl', 'rlds', 'rlut', 'rlutcs', 'rsdt', 'rsut', 'rsutcs', 'ta', 'tas', 'tasmax', 'tasmin', 'tauu', 'tauv', 'ts', 'ua', 'va', 'wap', 'zg']\n",
      "Amon\n",
      "['cli', 'clivi', 'clt', 'clw', 'clwvi', 'evspsbl', 'hfls', 'hfss', 'hur', 'hus', 'huss', 'o3', 'pr', 'prc', 'prsn', 'prw', 'ps', 'psl', 'rlds', 'rldscs', 'rlut', 'rlutcs', 'rsds', 'rsdscs', 'rsdt', 'rsut', 'rsutcs', 'rtmt', 'ta', 'tas', 'tasmax', 'tasmin', 'tauu', 'tauv', 'ts', 'ua', 'va', 'wap', 'zg']\n"
     ]
    },
    {
     "data": {
      "text/plain": [
       "3"
      ]
     },
     "execution_count": 79,
     "metadata": {},
     "output_type": "execute_result"
    }
   ],
   "source": [
    "o = 0\n",
    "\n",
    "version = 'piControl' # 'abrupt-4xCO2' # 'piControl'\n",
    "for i in np.arange(len(valid_combinations)):\n",
    "    for k in os.listdir(f'/badc/cmip6/data/CMIP6/CMIP/{valid_combinations[i][0]}/{valid_combinations[i][1]}/abrupt-4xCO2/{valid_combinations[i][2]}/'):\n",
    "        if {'huss'}.issubset(os.listdir(f'/badc/cmip6/data/CMIP6/CMIP/{valid_combinations[i][0]}/{valid_combinations[i][1]}/abrupt-4xCO2/{valid_combinations[i][2]}/{k}')):\n",
    "            print(k)\n",
    "            if k == 'day': o+=1\n",
    "            print(os.listdir(f'/badc/cmip6/data/CMIP6/CMIP/{valid_combinations[i][0]}/{valid_combinations[i][1]}/abrupt-4xCO2/{valid_combinations[i][2]}/{k}'))\n",
    "o"
   ]
  },
  {
   "cell_type": "code",
   "execution_count": 2,
   "id": "28080150-739e-4fbc-938e-bc8db70bf2e7",
   "metadata": {
    "scrolled": true
   },
   "outputs": [
    {
     "name": "stderr",
     "output_type": "stream",
     "text": [
      "\n",
      "-------------------------------------------------------------------------------\n",
      "Warning - defaulting to search with facets=*\n",
      "\n",
      "This behavior is kept for backward-compatibility, but ESGF indexes might not\n",
      "successfully perform a distributed search when this option is used, so some\n",
      "results may be missing.  For full results, it is recommended to pass a list of\n",
      "facets of interest when instantiating a context object.  For example,\n",
      "\n",
      "      ctx = conn.new_context(facets='project,experiment_id')\n",
      "\n",
      "Only the facets that you specify will be present in the facets_counts dictionary.\n",
      "\n",
      "This warning is displayed when a distributed search is performed while using the\n",
      "facets=* default, a maximum of once per context object.  To suppress this warning,\n",
      "set the environment variable ESGF_PYCLIENT_NO_FACETS_STAR_WARNING to any value\n",
      "or explicitly use  conn.new_context(facets='*')\n",
      "\n",
      "-------------------------------------------------------------------------------\n",
      "syntax error, unexpected WORD_WORD, expecting SCAN_ATTR or SCAN_DATASET or SCAN_ERROR\n",
      "context: <html^><head><title>404 Not Found</title></head><body><center><h1>404 Not Found</h1></center><hr><center>nginx</center></body></html>\n"
     ]
    },
    {
     "ename": "OSError",
     "evalue": "[Errno -90] NetCDF: file not found: 'http://esgf3.dkrz.de/thredds/dodsC/cmip6/CMIP/MOHC/UKESM1-0-LL/abrupt-4xCO2/r1i1p1f2/day/tas/gn/v20190701/tas_day_UKESM1-0-LL_abrupt-4xCO2_r1i1p1f2_gn_18500101-19491230.nc'",
     "output_type": "error",
     "traceback": [
      "\u001b[0;31m---------------------------------------------------------------------------\u001b[0m",
      "\u001b[0;31mKeyError\u001b[0m                                  Traceback (most recent call last)",
      "File \u001b[0;32m/opt/jaspy/lib/python3.11/site-packages/xarray/backends/file_manager.py:211\u001b[0m, in \u001b[0;36mCachingFileManager._acquire_with_cache_info\u001b[0;34m(self, needs_lock)\u001b[0m\n\u001b[1;32m    210\u001b[0m \u001b[38;5;28;01mtry\u001b[39;00m:\n\u001b[0;32m--> 211\u001b[0m     file \u001b[38;5;241m=\u001b[39m \u001b[38;5;28;43mself\u001b[39;49m\u001b[38;5;241;43m.\u001b[39;49m\u001b[43m_cache\u001b[49m\u001b[43m[\u001b[49m\u001b[38;5;28;43mself\u001b[39;49m\u001b[38;5;241;43m.\u001b[39;49m\u001b[43m_key\u001b[49m\u001b[43m]\u001b[49m\n\u001b[1;32m    212\u001b[0m \u001b[38;5;28;01mexcept\u001b[39;00m \u001b[38;5;167;01mKeyError\u001b[39;00m:\n",
      "File \u001b[0;32m/opt/jaspy/lib/python3.11/site-packages/xarray/backends/lru_cache.py:56\u001b[0m, in \u001b[0;36mLRUCache.__getitem__\u001b[0;34m(self, key)\u001b[0m\n\u001b[1;32m     55\u001b[0m \u001b[38;5;28;01mwith\u001b[39;00m \u001b[38;5;28mself\u001b[39m\u001b[38;5;241m.\u001b[39m_lock:\n\u001b[0;32m---> 56\u001b[0m     value \u001b[38;5;241m=\u001b[39m \u001b[38;5;28;43mself\u001b[39;49m\u001b[38;5;241;43m.\u001b[39;49m\u001b[43m_cache\u001b[49m\u001b[43m[\u001b[49m\u001b[43mkey\u001b[49m\u001b[43m]\u001b[49m\n\u001b[1;32m     57\u001b[0m     \u001b[38;5;28mself\u001b[39m\u001b[38;5;241m.\u001b[39m_cache\u001b[38;5;241m.\u001b[39mmove_to_end(key)\n",
      "\u001b[0;31mKeyError\u001b[0m: [<class 'netCDF4._netCDF4.Dataset'>, ('http://esgf3.dkrz.de/thredds/dodsC/cmip6/CMIP/MOHC/UKESM1-0-LL/abrupt-4xCO2/r1i1p1f2/day/tas/gn/v20190701/tas_day_UKESM1-0-LL_abrupt-4xCO2_r1i1p1f2_gn_18500101-19491230.nc',), 'r', (('clobber', True), ('diskless', False), ('format', 'NETCDF4'), ('persist', False)), 'ea03ad7e-4799-4514-979a-edd9e448f2c3']",
      "\nDuring handling of the above exception, another exception occurred:\n",
      "\u001b[0;31mOSError\u001b[0m                                   Traceback (most recent call last)",
      "Cell \u001b[0;32mIn[2], line 40\u001b[0m\n\u001b[1;32m     38\u001b[0m result \u001b[38;5;241m=\u001b[39m ctx\u001b[38;5;241m.\u001b[39msearch()[\u001b[38;5;241m0\u001b[39m]\n\u001b[1;32m     39\u001b[0m files \u001b[38;5;241m=\u001b[39m result\u001b[38;5;241m.\u001b[39mfile_context()\u001b[38;5;241m.\u001b[39msearch()\n\u001b[0;32m---> 40\u001b[0m ds \u001b[38;5;241m=\u001b[39m \u001b[43mxr\u001b[49m\u001b[38;5;241;43m.\u001b[39;49m\u001b[43mopen_mfdataset\u001b[49m\u001b[43m(\u001b[49m\u001b[43m[\u001b[49m\u001b[43mfiles\u001b[49m\u001b[43m[\u001b[49m\u001b[43mi\u001b[49m\u001b[43m]\u001b[49m\u001b[38;5;241;43m.\u001b[39;49m\u001b[43mopendap_url\u001b[49m\u001b[43m \u001b[49m\u001b[38;5;28;43;01mfor\u001b[39;49;00m\u001b[43m \u001b[49m\u001b[43mi\u001b[49m\u001b[43m \u001b[49m\u001b[38;5;129;43;01min\u001b[39;49;00m\u001b[43m \u001b[49m\u001b[43mnp\u001b[49m\u001b[38;5;241;43m.\u001b[39;49m\u001b[43marange\u001b[49m\u001b[43m(\u001b[49m\u001b[38;5;28;43mlen\u001b[39;49m\u001b[43m(\u001b[49m\u001b[43mfiles\u001b[49m\u001b[43m)\u001b[49m\u001b[43m)\u001b[49m\u001b[43m]\u001b[49m\u001b[43m)\u001b[49m\n\u001b[1;32m     41\u001b[0m ds\n",
      "File \u001b[0;32m/opt/jaspy/lib/python3.11/site-packages/xarray/backends/api.py:1077\u001b[0m, in \u001b[0;36mopen_mfdataset\u001b[0;34m(paths, chunks, concat_dim, compat, preprocess, engine, data_vars, coords, combine, parallel, join, attrs_file, combine_attrs, **kwargs)\u001b[0m\n\u001b[1;32m   1074\u001b[0m     open_ \u001b[38;5;241m=\u001b[39m open_dataset\n\u001b[1;32m   1075\u001b[0m     getattr_ \u001b[38;5;241m=\u001b[39m \u001b[38;5;28mgetattr\u001b[39m\n\u001b[0;32m-> 1077\u001b[0m datasets \u001b[38;5;241m=\u001b[39m \u001b[43m[\u001b[49m\u001b[43mopen_\u001b[49m\u001b[43m(\u001b[49m\u001b[43mp\u001b[49m\u001b[43m,\u001b[49m\u001b[43m \u001b[49m\u001b[38;5;241;43m*\u001b[39;49m\u001b[38;5;241;43m*\u001b[39;49m\u001b[43mopen_kwargs\u001b[49m\u001b[43m)\u001b[49m\u001b[43m \u001b[49m\u001b[38;5;28;43;01mfor\u001b[39;49;00m\u001b[43m \u001b[49m\u001b[43mp\u001b[49m\u001b[43m \u001b[49m\u001b[38;5;129;43;01min\u001b[39;49;00m\u001b[43m \u001b[49m\u001b[43mpaths\u001b[49m\u001b[43m]\u001b[49m\n\u001b[1;32m   1078\u001b[0m closers \u001b[38;5;241m=\u001b[39m [getattr_(ds, \u001b[38;5;124m\"\u001b[39m\u001b[38;5;124m_close\u001b[39m\u001b[38;5;124m\"\u001b[39m) \u001b[38;5;28;01mfor\u001b[39;00m ds \u001b[38;5;129;01min\u001b[39;00m datasets]\n\u001b[1;32m   1079\u001b[0m \u001b[38;5;28;01mif\u001b[39;00m preprocess \u001b[38;5;129;01mis\u001b[39;00m \u001b[38;5;129;01mnot\u001b[39;00m \u001b[38;5;28;01mNone\u001b[39;00m:\n",
      "File \u001b[0;32m/opt/jaspy/lib/python3.11/site-packages/xarray/backends/api.py:1077\u001b[0m, in \u001b[0;36m<listcomp>\u001b[0;34m(.0)\u001b[0m\n\u001b[1;32m   1074\u001b[0m     open_ \u001b[38;5;241m=\u001b[39m open_dataset\n\u001b[1;32m   1075\u001b[0m     getattr_ \u001b[38;5;241m=\u001b[39m \u001b[38;5;28mgetattr\u001b[39m\n\u001b[0;32m-> 1077\u001b[0m datasets \u001b[38;5;241m=\u001b[39m [\u001b[43mopen_\u001b[49m\u001b[43m(\u001b[49m\u001b[43mp\u001b[49m\u001b[43m,\u001b[49m\u001b[43m \u001b[49m\u001b[38;5;241;43m*\u001b[39;49m\u001b[38;5;241;43m*\u001b[39;49m\u001b[43mopen_kwargs\u001b[49m\u001b[43m)\u001b[49m \u001b[38;5;28;01mfor\u001b[39;00m p \u001b[38;5;129;01min\u001b[39;00m paths]\n\u001b[1;32m   1078\u001b[0m closers \u001b[38;5;241m=\u001b[39m [getattr_(ds, \u001b[38;5;124m\"\u001b[39m\u001b[38;5;124m_close\u001b[39m\u001b[38;5;124m\"\u001b[39m) \u001b[38;5;28;01mfor\u001b[39;00m ds \u001b[38;5;129;01min\u001b[39;00m datasets]\n\u001b[1;32m   1079\u001b[0m \u001b[38;5;28;01mif\u001b[39;00m preprocess \u001b[38;5;129;01mis\u001b[39;00m \u001b[38;5;129;01mnot\u001b[39;00m \u001b[38;5;28;01mNone\u001b[39;00m:\n",
      "File \u001b[0;32m/opt/jaspy/lib/python3.11/site-packages/xarray/backends/api.py:588\u001b[0m, in \u001b[0;36mopen_dataset\u001b[0;34m(filename_or_obj, engine, chunks, cache, decode_cf, mask_and_scale, decode_times, decode_timedelta, use_cftime, concat_characters, decode_coords, drop_variables, inline_array, chunked_array_type, from_array_kwargs, backend_kwargs, **kwargs)\u001b[0m\n\u001b[1;32m    576\u001b[0m decoders \u001b[38;5;241m=\u001b[39m _resolve_decoders_kwargs(\n\u001b[1;32m    577\u001b[0m     decode_cf,\n\u001b[1;32m    578\u001b[0m     open_backend_dataset_parameters\u001b[38;5;241m=\u001b[39mbackend\u001b[38;5;241m.\u001b[39mopen_dataset_parameters,\n\u001b[0;32m   (...)\u001b[0m\n\u001b[1;32m    584\u001b[0m     decode_coords\u001b[38;5;241m=\u001b[39mdecode_coords,\n\u001b[1;32m    585\u001b[0m )\n\u001b[1;32m    587\u001b[0m overwrite_encoded_chunks \u001b[38;5;241m=\u001b[39m kwargs\u001b[38;5;241m.\u001b[39mpop(\u001b[38;5;124m\"\u001b[39m\u001b[38;5;124moverwrite_encoded_chunks\u001b[39m\u001b[38;5;124m\"\u001b[39m, \u001b[38;5;28;01mNone\u001b[39;00m)\n\u001b[0;32m--> 588\u001b[0m backend_ds \u001b[38;5;241m=\u001b[39m \u001b[43mbackend\u001b[49m\u001b[38;5;241;43m.\u001b[39;49m\u001b[43mopen_dataset\u001b[49m\u001b[43m(\u001b[49m\n\u001b[1;32m    589\u001b[0m \u001b[43m    \u001b[49m\u001b[43mfilename_or_obj\u001b[49m\u001b[43m,\u001b[49m\n\u001b[1;32m    590\u001b[0m \u001b[43m    \u001b[49m\u001b[43mdrop_variables\u001b[49m\u001b[38;5;241;43m=\u001b[39;49m\u001b[43mdrop_variables\u001b[49m\u001b[43m,\u001b[49m\n\u001b[1;32m    591\u001b[0m \u001b[43m    \u001b[49m\u001b[38;5;241;43m*\u001b[39;49m\u001b[38;5;241;43m*\u001b[39;49m\u001b[43mdecoders\u001b[49m\u001b[43m,\u001b[49m\n\u001b[1;32m    592\u001b[0m \u001b[43m    \u001b[49m\u001b[38;5;241;43m*\u001b[39;49m\u001b[38;5;241;43m*\u001b[39;49m\u001b[43mkwargs\u001b[49m\u001b[43m,\u001b[49m\n\u001b[1;32m    593\u001b[0m \u001b[43m\u001b[49m\u001b[43m)\u001b[49m\n\u001b[1;32m    594\u001b[0m ds \u001b[38;5;241m=\u001b[39m _dataset_from_backend_dataset(\n\u001b[1;32m    595\u001b[0m     backend_ds,\n\u001b[1;32m    596\u001b[0m     filename_or_obj,\n\u001b[0;32m   (...)\u001b[0m\n\u001b[1;32m    606\u001b[0m     \u001b[38;5;241m*\u001b[39m\u001b[38;5;241m*\u001b[39mkwargs,\n\u001b[1;32m    607\u001b[0m )\n\u001b[1;32m    608\u001b[0m \u001b[38;5;28;01mreturn\u001b[39;00m ds\n",
      "File \u001b[0;32m/opt/jaspy/lib/python3.11/site-packages/xarray/backends/netCDF4_.py:645\u001b[0m, in \u001b[0;36mNetCDF4BackendEntrypoint.open_dataset\u001b[0;34m(self, filename_or_obj, mask_and_scale, decode_times, concat_characters, decode_coords, drop_variables, use_cftime, decode_timedelta, group, mode, format, clobber, diskless, persist, lock, autoclose)\u001b[0m\n\u001b[1;32m    624\u001b[0m \u001b[38;5;28;01mdef\u001b[39;00m \u001b[38;5;21mopen_dataset\u001b[39m(  \u001b[38;5;66;03m# type: ignore[override]  # allow LSP violation, not supporting **kwargs\u001b[39;00m\n\u001b[1;32m    625\u001b[0m     \u001b[38;5;28mself\u001b[39m,\n\u001b[1;32m    626\u001b[0m     filename_or_obj: \u001b[38;5;28mstr\u001b[39m \u001b[38;5;241m|\u001b[39m os\u001b[38;5;241m.\u001b[39mPathLike[Any] \u001b[38;5;241m|\u001b[39m BufferedIOBase \u001b[38;5;241m|\u001b[39m AbstractDataStore,\n\u001b[0;32m   (...)\u001b[0m\n\u001b[1;32m    642\u001b[0m     autoclose\u001b[38;5;241m=\u001b[39m\u001b[38;5;28;01mFalse\u001b[39;00m,\n\u001b[1;32m    643\u001b[0m ) \u001b[38;5;241m-\u001b[39m\u001b[38;5;241m>\u001b[39m Dataset:\n\u001b[1;32m    644\u001b[0m     filename_or_obj \u001b[38;5;241m=\u001b[39m _normalize_path(filename_or_obj)\n\u001b[0;32m--> 645\u001b[0m     store \u001b[38;5;241m=\u001b[39m \u001b[43mNetCDF4DataStore\u001b[49m\u001b[38;5;241;43m.\u001b[39;49m\u001b[43mopen\u001b[49m\u001b[43m(\u001b[49m\n\u001b[1;32m    646\u001b[0m \u001b[43m        \u001b[49m\u001b[43mfilename_or_obj\u001b[49m\u001b[43m,\u001b[49m\n\u001b[1;32m    647\u001b[0m \u001b[43m        \u001b[49m\u001b[43mmode\u001b[49m\u001b[38;5;241;43m=\u001b[39;49m\u001b[43mmode\u001b[49m\u001b[43m,\u001b[49m\n\u001b[1;32m    648\u001b[0m \u001b[43m        \u001b[49m\u001b[38;5;28;43mformat\u001b[39;49m\u001b[38;5;241;43m=\u001b[39;49m\u001b[38;5;28;43mformat\u001b[39;49m\u001b[43m,\u001b[49m\n\u001b[1;32m    649\u001b[0m \u001b[43m        \u001b[49m\u001b[43mgroup\u001b[49m\u001b[38;5;241;43m=\u001b[39;49m\u001b[43mgroup\u001b[49m\u001b[43m,\u001b[49m\n\u001b[1;32m    650\u001b[0m \u001b[43m        \u001b[49m\u001b[43mclobber\u001b[49m\u001b[38;5;241;43m=\u001b[39;49m\u001b[43mclobber\u001b[49m\u001b[43m,\u001b[49m\n\u001b[1;32m    651\u001b[0m \u001b[43m        \u001b[49m\u001b[43mdiskless\u001b[49m\u001b[38;5;241;43m=\u001b[39;49m\u001b[43mdiskless\u001b[49m\u001b[43m,\u001b[49m\n\u001b[1;32m    652\u001b[0m \u001b[43m        \u001b[49m\u001b[43mpersist\u001b[49m\u001b[38;5;241;43m=\u001b[39;49m\u001b[43mpersist\u001b[49m\u001b[43m,\u001b[49m\n\u001b[1;32m    653\u001b[0m \u001b[43m        \u001b[49m\u001b[43mlock\u001b[49m\u001b[38;5;241;43m=\u001b[39;49m\u001b[43mlock\u001b[49m\u001b[43m,\u001b[49m\n\u001b[1;32m    654\u001b[0m \u001b[43m        \u001b[49m\u001b[43mautoclose\u001b[49m\u001b[38;5;241;43m=\u001b[39;49m\u001b[43mautoclose\u001b[49m\u001b[43m,\u001b[49m\n\u001b[1;32m    655\u001b[0m \u001b[43m    \u001b[49m\u001b[43m)\u001b[49m\n\u001b[1;32m    657\u001b[0m     store_entrypoint \u001b[38;5;241m=\u001b[39m StoreBackendEntrypoint()\n\u001b[1;32m    658\u001b[0m     \u001b[38;5;28;01mwith\u001b[39;00m close_on_error(store):\n",
      "File \u001b[0;32m/opt/jaspy/lib/python3.11/site-packages/xarray/backends/netCDF4_.py:408\u001b[0m, in \u001b[0;36mNetCDF4DataStore.open\u001b[0;34m(cls, filename, mode, format, group, clobber, diskless, persist, lock, lock_maker, autoclose)\u001b[0m\n\u001b[1;32m    402\u001b[0m kwargs \u001b[38;5;241m=\u001b[39m \u001b[38;5;28mdict\u001b[39m(\n\u001b[1;32m    403\u001b[0m     clobber\u001b[38;5;241m=\u001b[39mclobber, diskless\u001b[38;5;241m=\u001b[39mdiskless, persist\u001b[38;5;241m=\u001b[39mpersist, \u001b[38;5;28mformat\u001b[39m\u001b[38;5;241m=\u001b[39m\u001b[38;5;28mformat\u001b[39m\n\u001b[1;32m    404\u001b[0m )\n\u001b[1;32m    405\u001b[0m manager \u001b[38;5;241m=\u001b[39m CachingFileManager(\n\u001b[1;32m    406\u001b[0m     netCDF4\u001b[38;5;241m.\u001b[39mDataset, filename, mode\u001b[38;5;241m=\u001b[39mmode, kwargs\u001b[38;5;241m=\u001b[39mkwargs\n\u001b[1;32m    407\u001b[0m )\n\u001b[0;32m--> 408\u001b[0m \u001b[38;5;28;01mreturn\u001b[39;00m \u001b[38;5;28;43mcls\u001b[39;49m\u001b[43m(\u001b[49m\u001b[43mmanager\u001b[49m\u001b[43m,\u001b[49m\u001b[43m \u001b[49m\u001b[43mgroup\u001b[49m\u001b[38;5;241;43m=\u001b[39;49m\u001b[43mgroup\u001b[49m\u001b[43m,\u001b[49m\u001b[43m \u001b[49m\u001b[43mmode\u001b[49m\u001b[38;5;241;43m=\u001b[39;49m\u001b[43mmode\u001b[49m\u001b[43m,\u001b[49m\u001b[43m \u001b[49m\u001b[43mlock\u001b[49m\u001b[38;5;241;43m=\u001b[39;49m\u001b[43mlock\u001b[49m\u001b[43m,\u001b[49m\u001b[43m \u001b[49m\u001b[43mautoclose\u001b[49m\u001b[38;5;241;43m=\u001b[39;49m\u001b[43mautoclose\u001b[49m\u001b[43m)\u001b[49m\n",
      "File \u001b[0;32m/opt/jaspy/lib/python3.11/site-packages/xarray/backends/netCDF4_.py:355\u001b[0m, in \u001b[0;36mNetCDF4DataStore.__init__\u001b[0;34m(self, manager, group, mode, lock, autoclose)\u001b[0m\n\u001b[1;32m    353\u001b[0m \u001b[38;5;28mself\u001b[39m\u001b[38;5;241m.\u001b[39m_group \u001b[38;5;241m=\u001b[39m group\n\u001b[1;32m    354\u001b[0m \u001b[38;5;28mself\u001b[39m\u001b[38;5;241m.\u001b[39m_mode \u001b[38;5;241m=\u001b[39m mode\n\u001b[0;32m--> 355\u001b[0m \u001b[38;5;28mself\u001b[39m\u001b[38;5;241m.\u001b[39mformat \u001b[38;5;241m=\u001b[39m \u001b[38;5;28;43mself\u001b[39;49m\u001b[38;5;241;43m.\u001b[39;49m\u001b[43mds\u001b[49m\u001b[38;5;241m.\u001b[39mdata_model\n\u001b[1;32m    356\u001b[0m \u001b[38;5;28mself\u001b[39m\u001b[38;5;241m.\u001b[39m_filename \u001b[38;5;241m=\u001b[39m \u001b[38;5;28mself\u001b[39m\u001b[38;5;241m.\u001b[39mds\u001b[38;5;241m.\u001b[39mfilepath()\n\u001b[1;32m    357\u001b[0m \u001b[38;5;28mself\u001b[39m\u001b[38;5;241m.\u001b[39mis_remote \u001b[38;5;241m=\u001b[39m is_remote_uri(\u001b[38;5;28mself\u001b[39m\u001b[38;5;241m.\u001b[39m_filename)\n",
      "File \u001b[0;32m/opt/jaspy/lib/python3.11/site-packages/xarray/backends/netCDF4_.py:417\u001b[0m, in \u001b[0;36mNetCDF4DataStore.ds\u001b[0;34m(self)\u001b[0m\n\u001b[1;32m    415\u001b[0m \u001b[38;5;129m@property\u001b[39m\n\u001b[1;32m    416\u001b[0m \u001b[38;5;28;01mdef\u001b[39;00m \u001b[38;5;21mds\u001b[39m(\u001b[38;5;28mself\u001b[39m):\n\u001b[0;32m--> 417\u001b[0m     \u001b[38;5;28;01mreturn\u001b[39;00m \u001b[38;5;28;43mself\u001b[39;49m\u001b[38;5;241;43m.\u001b[39;49m\u001b[43m_acquire\u001b[49m\u001b[43m(\u001b[49m\u001b[43m)\u001b[49m\n",
      "File \u001b[0;32m/opt/jaspy/lib/python3.11/site-packages/xarray/backends/netCDF4_.py:411\u001b[0m, in \u001b[0;36mNetCDF4DataStore._acquire\u001b[0;34m(self, needs_lock)\u001b[0m\n\u001b[1;32m    410\u001b[0m \u001b[38;5;28;01mdef\u001b[39;00m \u001b[38;5;21m_acquire\u001b[39m(\u001b[38;5;28mself\u001b[39m, needs_lock\u001b[38;5;241m=\u001b[39m\u001b[38;5;28;01mTrue\u001b[39;00m):\n\u001b[0;32m--> 411\u001b[0m \u001b[43m    \u001b[49m\u001b[38;5;28;43;01mwith\u001b[39;49;00m\u001b[43m \u001b[49m\u001b[38;5;28;43mself\u001b[39;49m\u001b[38;5;241;43m.\u001b[39;49m\u001b[43m_manager\u001b[49m\u001b[38;5;241;43m.\u001b[39;49m\u001b[43macquire_context\u001b[49m\u001b[43m(\u001b[49m\u001b[43mneeds_lock\u001b[49m\u001b[43m)\u001b[49m\u001b[43m \u001b[49m\u001b[38;5;28;43;01mas\u001b[39;49;00m\u001b[43m \u001b[49m\u001b[43mroot\u001b[49m\u001b[43m:\u001b[49m\n\u001b[1;32m    412\u001b[0m \u001b[43m        \u001b[49m\u001b[43mds\u001b[49m\u001b[43m \u001b[49m\u001b[38;5;241;43m=\u001b[39;49m\u001b[43m \u001b[49m\u001b[43m_nc4_require_group\u001b[49m\u001b[43m(\u001b[49m\u001b[43mroot\u001b[49m\u001b[43m,\u001b[49m\u001b[43m \u001b[49m\u001b[38;5;28;43mself\u001b[39;49m\u001b[38;5;241;43m.\u001b[39;49m\u001b[43m_group\u001b[49m\u001b[43m,\u001b[49m\u001b[43m \u001b[49m\u001b[38;5;28;43mself\u001b[39;49m\u001b[38;5;241;43m.\u001b[39;49m\u001b[43m_mode\u001b[49m\u001b[43m)\u001b[49m\n\u001b[1;32m    413\u001b[0m     \u001b[38;5;28;01mreturn\u001b[39;00m ds\n",
      "File \u001b[0;32m/opt/jaspy/lib/python3.11/contextlib.py:137\u001b[0m, in \u001b[0;36m_GeneratorContextManager.__enter__\u001b[0;34m(self)\u001b[0m\n\u001b[1;32m    135\u001b[0m \u001b[38;5;28;01mdel\u001b[39;00m \u001b[38;5;28mself\u001b[39m\u001b[38;5;241m.\u001b[39margs, \u001b[38;5;28mself\u001b[39m\u001b[38;5;241m.\u001b[39mkwds, \u001b[38;5;28mself\u001b[39m\u001b[38;5;241m.\u001b[39mfunc\n\u001b[1;32m    136\u001b[0m \u001b[38;5;28;01mtry\u001b[39;00m:\n\u001b[0;32m--> 137\u001b[0m     \u001b[38;5;28;01mreturn\u001b[39;00m \u001b[38;5;28mnext\u001b[39m(\u001b[38;5;28mself\u001b[39m\u001b[38;5;241m.\u001b[39mgen)\n\u001b[1;32m    138\u001b[0m \u001b[38;5;28;01mexcept\u001b[39;00m \u001b[38;5;167;01mStopIteration\u001b[39;00m:\n\u001b[1;32m    139\u001b[0m     \u001b[38;5;28;01mraise\u001b[39;00m \u001b[38;5;167;01mRuntimeError\u001b[39;00m(\u001b[38;5;124m\"\u001b[39m\u001b[38;5;124mgenerator didn\u001b[39m\u001b[38;5;124m'\u001b[39m\u001b[38;5;124mt yield\u001b[39m\u001b[38;5;124m\"\u001b[39m) \u001b[38;5;28;01mfrom\u001b[39;00m \u001b[38;5;28;01mNone\u001b[39;00m\n",
      "File \u001b[0;32m/opt/jaspy/lib/python3.11/site-packages/xarray/backends/file_manager.py:199\u001b[0m, in \u001b[0;36mCachingFileManager.acquire_context\u001b[0;34m(self, needs_lock)\u001b[0m\n\u001b[1;32m    196\u001b[0m \u001b[38;5;129m@contextlib\u001b[39m\u001b[38;5;241m.\u001b[39mcontextmanager\n\u001b[1;32m    197\u001b[0m \u001b[38;5;28;01mdef\u001b[39;00m \u001b[38;5;21macquire_context\u001b[39m(\u001b[38;5;28mself\u001b[39m, needs_lock\u001b[38;5;241m=\u001b[39m\u001b[38;5;28;01mTrue\u001b[39;00m):\n\u001b[1;32m    198\u001b[0m \u001b[38;5;250m    \u001b[39m\u001b[38;5;124;03m\"\"\"Context manager for acquiring a file.\"\"\"\u001b[39;00m\n\u001b[0;32m--> 199\u001b[0m     file, cached \u001b[38;5;241m=\u001b[39m \u001b[38;5;28;43mself\u001b[39;49m\u001b[38;5;241;43m.\u001b[39;49m\u001b[43m_acquire_with_cache_info\u001b[49m\u001b[43m(\u001b[49m\u001b[43mneeds_lock\u001b[49m\u001b[43m)\u001b[49m\n\u001b[1;32m    200\u001b[0m     \u001b[38;5;28;01mtry\u001b[39;00m:\n\u001b[1;32m    201\u001b[0m         \u001b[38;5;28;01myield\u001b[39;00m file\n",
      "File \u001b[0;32m/opt/jaspy/lib/python3.11/site-packages/xarray/backends/file_manager.py:217\u001b[0m, in \u001b[0;36mCachingFileManager._acquire_with_cache_info\u001b[0;34m(self, needs_lock)\u001b[0m\n\u001b[1;32m    215\u001b[0m     kwargs \u001b[38;5;241m=\u001b[39m kwargs\u001b[38;5;241m.\u001b[39mcopy()\n\u001b[1;32m    216\u001b[0m     kwargs[\u001b[38;5;124m\"\u001b[39m\u001b[38;5;124mmode\u001b[39m\u001b[38;5;124m\"\u001b[39m] \u001b[38;5;241m=\u001b[39m \u001b[38;5;28mself\u001b[39m\u001b[38;5;241m.\u001b[39m_mode\n\u001b[0;32m--> 217\u001b[0m file \u001b[38;5;241m=\u001b[39m \u001b[38;5;28;43mself\u001b[39;49m\u001b[38;5;241;43m.\u001b[39;49m\u001b[43m_opener\u001b[49m\u001b[43m(\u001b[49m\u001b[38;5;241;43m*\u001b[39;49m\u001b[38;5;28;43mself\u001b[39;49m\u001b[38;5;241;43m.\u001b[39;49m\u001b[43m_args\u001b[49m\u001b[43m,\u001b[49m\u001b[43m \u001b[49m\u001b[38;5;241;43m*\u001b[39;49m\u001b[38;5;241;43m*\u001b[39;49m\u001b[43mkwargs\u001b[49m\u001b[43m)\u001b[49m\n\u001b[1;32m    218\u001b[0m \u001b[38;5;28;01mif\u001b[39;00m \u001b[38;5;28mself\u001b[39m\u001b[38;5;241m.\u001b[39m_mode \u001b[38;5;241m==\u001b[39m \u001b[38;5;124m\"\u001b[39m\u001b[38;5;124mw\u001b[39m\u001b[38;5;124m\"\u001b[39m:\n\u001b[1;32m    219\u001b[0m     \u001b[38;5;66;03m# ensure file doesn't get overridden when opened again\u001b[39;00m\n\u001b[1;32m    220\u001b[0m     \u001b[38;5;28mself\u001b[39m\u001b[38;5;241m.\u001b[39m_mode \u001b[38;5;241m=\u001b[39m \u001b[38;5;124m\"\u001b[39m\u001b[38;5;124ma\u001b[39m\u001b[38;5;124m\"\u001b[39m\n",
      "File \u001b[0;32msrc/netCDF4/_netCDF4.pyx:2470\u001b[0m, in \u001b[0;36mnetCDF4._netCDF4.Dataset.__init__\u001b[0;34m()\u001b[0m\n",
      "File \u001b[0;32msrc/netCDF4/_netCDF4.pyx:2107\u001b[0m, in \u001b[0;36mnetCDF4._netCDF4._ensure_nc_success\u001b[0;34m()\u001b[0m\n",
      "\u001b[0;31mOSError\u001b[0m: [Errno -90] NetCDF: file not found: 'http://esgf3.dkrz.de/thredds/dodsC/cmip6/CMIP/MOHC/UKESM1-0-LL/abrupt-4xCO2/r1i1p1f2/day/tas/gn/v20190701/tas_day_UKESM1-0-LL_abrupt-4xCO2_r1i1p1f2_gn_18500101-19491230.nc'"
     ]
    }
   ],
   "source": [
    "\n",
    "\n",
    "# for model in ['UKESM1-1-LL']:\n",
    "#     print('--------------------------------------')\n",
    "#     print(model)\n",
    "#     for node in NodeAddresses['Node address']:\n",
    "#         ctx = conn.new_context(facets='*',\n",
    "#             project='CMIP6',\n",
    "#             source_id=model,\n",
    "#             experiment_id='abrupt-4xCO2',\n",
    "#             variable='huss',\n",
    "#             frequency='day',\n",
    "#             variant_label='r1i1p1f1', ##  this is the only finicky thing\n",
    "#             data_node=node)\n",
    "        \n",
    "#         if ctx.hit_count != 0:\n",
    "#             print('trying: ', model, ' at  ', node)\n",
    "#             try: \n",
    "#                 result = ctx.search()[0]\n",
    "#                 files = result.file_context().search()\n",
    "#                 ds = xr.open_mfdataset([files[i].opendap_url for i in np.arange(len(files))])\n",
    "#                 print('model succedded at ', node)\n",
    "                \n",
    "#             except: print(model, ' failed at  ', node)\n",
    "# for node in NodeAddresses['Node address']:\n",
    "                \n",
    "ctx = conn.new_context(facets='*',\n",
    "    project='CMIP6',\n",
    "    source_id='UKESM1-0-LL',\n",
    "    experiment_id='abrupt-4xCO2',\n",
    "    variable='tas',\n",
    "    frequency='day',\n",
    "    # variant_label='r1i1p1f1',\n",
    "    data_node='esgf3.dkrz.de')\n",
    "result = ctx.search()[0]\n",
    "files = result.file_context().search()\n",
    "ds = xr.open_mfdataset([files[i].opendap_url for i in np.arange(len(files))])\n",
    "ds\n"
   ]
  },
  {
   "cell_type": "code",
   "execution_count": 151,
   "id": "06943349-735e-4616-8eec-f28571f70d12",
   "metadata": {},
   "outputs": [
    {
     "data": {
      "text/plain": [
       "'CMIP6.CMIP.MOHC.UKESM1-0-LL.abrupt-4xCO2.r1i1p1f2.day.huss.gn.v20190701|esgf3.dkrz.de'"
      ]
     },
     "execution_count": 151,
     "metadata": {},
     "output_type": "execute_result"
    }
   ],
   "source": [
    "result = ctx.search()[0]\n",
    "result.dataset_id"
   ]
  },
  {
   "cell_type": "code",
   "execution_count": 152,
   "id": "0985c2dc-fd52-4182-a486-78c1f0af7ba4",
   "metadata": {},
   "outputs": [
    {
     "name": "stderr",
     "output_type": "stream",
     "text": [
      "\n",
      "-------------------------------------------------------------------------------\n",
      "Warning - defaulting to search with facets=*\n",
      "\n",
      "This behavior is kept for backward-compatibility, but ESGF indexes might not\n",
      "successfully perform a distributed search when this option is used, so some\n",
      "results may be missing.  For full results, it is recommended to pass a list of\n",
      "facets of interest when instantiating a context object.  For example,\n",
      "\n",
      "      ctx = conn.new_context(facets='project,experiment_id')\n",
      "\n",
      "Only the facets that you specify will be present in the facets_counts dictionary.\n",
      "\n",
      "This warning is displayed when a distributed search is performed while using the\n",
      "facets=* default, a maximum of once per context object.  To suppress this warning,\n",
      "set the environment variable ESGF_PYCLIENT_NO_FACETS_STAR_WARNING to any value\n",
      "or explicitly use  conn.new_context(facets='*')\n",
      "\n",
      "-------------------------------------------------------------------------------\n"
     ]
    },
    {
     "name": "stdout",
     "output_type": "stream",
     "text": [
      "http://esgf3.dkrz.de/thredds/dodsC/cmip6/CMIP/MOHC/UKESM1-0-LL/abrupt-4xCO2/r1i1p1f2/day/huss/gn/v20190701/huss_day_UKESM1-0-LL_abrupt-4xCO2_r1i1p1f2_gn_18500101-19491230.nc\n",
      "http://esgf3.dkrz.de/thredds/dodsC/cmip6/CMIP/MOHC/UKESM1-0-LL/abrupt-4xCO2/r1i1p1f2/day/huss/gn/v20190701/huss_day_UKESM1-0-LL_abrupt-4xCO2_r1i1p1f2_gn_19500101-19991230.nc\n"
     ]
    }
   ],
   "source": [
    "files = result.file_context().search()\n",
    "for file in files:\n",
    "    print(file.opendap_url)"
   ]
  },
  {
   "cell_type": "code",
   "execution_count": 5,
   "id": "26e9d816-0c55-4310-a902-585428fd5b02",
   "metadata": {
    "scrolled": true
   },
   "outputs": [],
   "source": [
    "\n",
    "NodeAddresses = pd.read_csv('CMIP ESGF Nodes.csv')\n",
    "model = 'UKESM1-0-LL'"
   ]
  },
  {
   "cell_type": "code",
   "execution_count": 44,
   "id": "7a4dd78f-7efa-4322-b0ac-0607dd17ec1e",
   "metadata": {
    "scrolled": true
   },
   "outputs": [
    {
     "name": "stdout",
     "output_type": "stream",
     "text": [
      "AWI-ESM-1-1-LRCAS-ESM2-0TaiESM1BCC-ESM1CanESM5FGOALS-g3CMCC-CM2-HR4CMCC-ESM2CNRM-CM6-1-HRE3SM-1-0ACCESS-ESM1-5E3SM-1-1-ECA\n",
      "\n",
      "\n",
      "\n",
      "\n",
      "\n",
      "\n",
      "\n",
      "\n",
      "\n",
      "\n",
      "\n",
      "BCC-CSM2-MR\n",
      "FGOALS-f3-L\n",
      "CAMS-CSM1-0E3SM-2-0\n",
      "\n",
      "EC-Earth3\n",
      "EC-Earth3-CC\n",
      "E3SM-1-1\n",
      "EC-Earth3-Veg\n",
      "EC-Earth3P-VHR\n",
      "CNRM-ESM2-1\n",
      "FIO-ESM-2-0\n",
      "MPI-ESM-1-2-HAM\n",
      "CMCC-CM2-SR5\n",
      "CNRM-CM6-1\n",
      "AWI-CM-1-1-MR\n",
      "CanESM5-CanOE\n",
      "INM-CM5-0\n",
      "IPSL-CM6A-LR\n",
      "ACCESS-CM2\n",
      "EC-Earth3-LR\n",
      "EC-Earth3-AerChem\n",
      "KIOST-ESM\n",
      "IITM-ESM\n",
      "MIROC-ES2L\n",
      "INM-CM4-8\n",
      "IPSL-CM6A-LR-INCA\n",
      "HadGEM3-GC31-LL\n",
      "IPSL-CM5A2-INCA\n",
      "UKESM1-0-LL\n",
      "ICON-ESM-LR\n",
      "MPI-ESM1-2-HR\n",
      "MPI-ESM1-2-LR\n",
      "GISS-E2-1-G\n",
      "GISS-E2-1-G-CC\n",
      "GISS-E2-1-H\n",
      "GISS-E2-2-H\n",
      "GISS-E2-2-G\n",
      "EC-Earth3-Veg-LR\n",
      "CESM2-FV2\n",
      "CESM2\n",
      "CESM2-WACCM-FV2\n",
      "NorESM1-F\n",
      "NorESM2-LM\n",
      "MIROC-ES2H\n",
      "HadGEM3-GC31-MM\n",
      "NorESM2-MM\n",
      "UKESM1-0-LL\n",
      "MRI-ESM2-0\n",
      "GFDL-CM4\n",
      "MIROC6\n",
      "NESM3\n",
      "CIESM\n",
      "SAM0-UNICON\n",
      "MCM-UA-1-0\n",
      "UKESM1-1-LL\n",
      "NorCPM1\n",
      "CESM2-WACCM\n",
      "GFDL-ESM4\n",
      "KACE-1-0-G\n",
      "GFDL-AM4\n"
     ]
    },
    {
     "ename": "NameError",
     "evalue": "name 'models' is not defined",
     "output_type": "error",
     "traceback": [
      "\u001b[0;31m---------------------------------------------------------------------------\u001b[0m",
      "\u001b[0;31mNameError\u001b[0m                                 Traceback (most recent call last)",
      "Cell \u001b[0;32mIn[44], line 39\u001b[0m\n\u001b[1;32m     36\u001b[0m results \u001b[38;5;241m=\u001b[39m parallel_execution(calc, out, processes\u001b[38;5;241m=\u001b[39m\u001b[38;5;241m12\u001b[39m)\n\u001b[1;32m     38\u001b[0m \u001b[38;5;66;03m# Process results\u001b[39;00m\n\u001b[0;32m---> 39\u001b[0m \u001b[38;5;28;01mfor\u001b[39;00m model, result \u001b[38;5;129;01min\u001b[39;00m \u001b[38;5;28mzip\u001b[39m(\u001b[43mmodels\u001b[49m, results):\n\u001b[1;32m     40\u001b[0m     \u001b[38;5;28mprint\u001b[39m(\u001b[38;5;124mf\u001b[39m\u001b[38;5;124m\"\u001b[39m\u001b[38;5;124mModel: \u001b[39m\u001b[38;5;132;01m{\u001b[39;00mmodel\u001b[38;5;132;01m}\u001b[39;00m\u001b[38;5;124m, Result: \u001b[39m\u001b[38;5;132;01m{\u001b[39;00mresult\u001b[38;5;132;01m}\u001b[39;00m\u001b[38;5;124m\"\u001b[39m) \n",
      "\u001b[0;31mNameError\u001b[0m: name 'models' is not defined"
     ]
    }
   ],
   "source": [
    "def calc(model): \n",
    "    print(model)\n",
    "    for DataNode in NodeAddresses['Node address']:\n",
    "        ctx = conn.new_context(\n",
    "            project='CMIP6', \n",
    "            source_id=model, \n",
    "            experiment_id='abrupt-4xCO2', \n",
    "            variable='huss', \n",
    "            frequency='day', \n",
    "            data_node=DataNode)\n",
    "        if ctx.hit_count != 0:\n",
    "            try: \n",
    "                result = ctx.search()[0]\n",
    "                files = result.file_context().search()\n",
    "                # ds = xr.open_mfdataset([files[i].opendap_url for i in np.arange(len(files))])\n",
    "                return [files[i].opendap_url for i in np.arange(len(files))]\n",
    "            except: pass\n",
    "    return []\n",
    "\n",
    "\n",
    "# Output = {out[i]: calc(out[i])}\n",
    "\n",
    "def parallel_execution(func, inputs, processes=None):\n",
    "    from multiprocessing import Pool, cpu_count\n",
    "\n",
    "    # Set the number of processes to use (default: number of CPU cores)\n",
    "    if processes is None:\n",
    "        processes = cpu_count()\n",
    "\n",
    "    # Create a pool of worker processes\n",
    "    with Pool(processes=processes) as pool:\n",
    "        # Map the function to inputs and distribute across processors\n",
    "        results = pool.map(func, inputs)\n",
    "\n",
    "    return results\n",
    "results = parallel_execution(calc, out, processes=12)\n",
    "\n",
    "# Process results\n",
    "for model, result in zip(models, results):\n",
    "    print(f\"Model: {model}, Result: {result}\") "
   ]
  },
  {
   "cell_type": "code",
   "execution_count": null,
   "id": "925ed96f-e0f8-4167-98c9-8c0b6858d5ac",
   "metadata": {
    "scrolled": true
   },
   "outputs": [],
   "source": [
    "results"
   ]
  },
  {
   "cell_type": "code",
   "execution_count": 48,
   "id": "fdad090c-bf10-4394-8cf3-c909c9d57484",
   "metadata": {},
   "outputs": [
    {
     "ename": "SyntaxError",
     "evalue": "invalid syntax (1131271885.py, line 2)",
     "output_type": "error",
     "traceback": [
      "\u001b[0;36m  Cell \u001b[0;32mIn[48], line 2\u001b[0;36m\u001b[0m\n\u001b[0;31m    results_dict[]0\u001b[0m\n\u001b[0m                 ^\u001b[0m\n\u001b[0;31mSyntaxError\u001b[0m\u001b[0;31m:\u001b[0m invalid syntax\n"
     ]
    }
   ],
   "source": []
  },
  {
   "cell_type": "code",
   "execution_count": 65,
   "id": "a8dbef78-4057-4371-a319-9c1929feaff8",
   "metadata": {},
   "outputs": [
    {
     "data": {
      "text/plain": [
       "38"
      ]
     },
     "execution_count": 65,
     "metadata": {},
     "output_type": "execute_result"
    }
   ],
   "source": [
    "empty_indices = [i for i, model in enumerate(out) if results_dict[model] == []]\n",
    "\n",
    "# Subset 'out' based on empty results\n",
    "subset_out = [out[i] for i in empty_indices]\n",
    "len(subset_out)"
   ]
  },
  {
   "cell_type": "code",
   "execution_count": 71,
   "id": "06b64a64-edab-4ff3-b9bc-ade49098772f",
   "metadata": {},
   "outputs": [
    {
     "data": {
      "text/plain": [
       "(34, 2)"
      ]
     },
     "execution_count": 71,
     "metadata": {},
     "output_type": "execute_result"
    }
   ],
   "source": [
    "df = pd.DataFrame({'model': out, 'Huss_Addy': results})\n",
    "df = df[~df['Huss_Addy'].apply(lambda x: len(x) == 0)]\n",
    "df.shape"
   ]
  },
  {
   "cell_type": "code",
   "execution_count": 3,
   "id": "f41ddf70-b723-4da7-912f-b0fb30a9ce28",
   "metadata": {
    "scrolled": true
   },
   "outputs": [],
   "source": [
    "### Morning Retry\n",
    "def calc(model): \n",
    "    print(model)\n",
    "    query = conn.new_context(project=\"CMIP6\",\n",
    "                             experiment_id='abrupt-4xCO2,piControl',\n",
    "                             source_id = model,\n",
    "                             # monthly ('day' for daily, '6hr' for 6-hourly, etc.)\n",
    "                             frequency = 'day', \n",
    "                             # member_id=\"r1i1p1f1\",\n",
    "                             variable_id = \"tas,huss,ps,hurs\")\n",
    "    results = query.search()\n",
    "    files = []\n",
    "    for i in range(len(results)):\n",
    "        try:\n",
    "            hit = results[i].file_context().search()\n",
    "        except:\n",
    "            hit = results[i].file_context().search()\n",
    "        files += list(map(lambda f: {'model': model,\n",
    "                                     'filename': f.filename, \n",
    "                                     'download_url': f.download_url, \n",
    "                                     'opendap_url': f.opendap_url}, hit))\n",
    "    files = pd.DataFrame.from_dict(files)\n",
    "    files = files.drop_duplicates('filename').reset_index(drop=True)\n",
    "    files.to_csv(f'CO2_4x_url_{model}.csv')\n",
    "    return files\n",
    "\n",
    "# def parallel_execution(func, inputs, processes=None):\n",
    "#     from multiprocessing import Pool, cpu_count\n",
    "\n",
    "#     # Set the number of processes to use (default: number of CPU cores)\n",
    "#     if processes is None:\n",
    "#         processes = cpu_count()\n",
    "\n",
    "#     # Create a pool of worker processes\n",
    "#     with Pool(processes=processes) as pool:\n",
    "#         # Map the function to inputs and distribute across processors\n",
    "#         results = pool.map(func, inputs)\n",
    "\n",
    "#     return results\n",
    "\n",
    "# out = ['AWI-ESM-1-1-LR',\n",
    "#  'FGOALS-f3-L',\n",
    "#  'FGOALS-g3',\n",
    "#  'CanESM5',\n",
    "#  'CanESM5-CanOE',\n",
    "#  'CMCC-ESM2',\n",
    "#  'CNRM-CM6-1',\n",
    "#  'CNRM-CM6-1-HR',\n",
    "#  'CNRM-ESM2-1',\n",
    "#  'ACCESS-ESM1-5',\n",
    "#  'ACCESS-CM2',\n",
    "#  'E3SM-1-0',\n",
    "#  'MRI-ESM2-0',\n",
    "#  'GISS-E2-1-G']\n",
    "\n",
    "# results = parallel_execution(calc, out, processes=8)\n"
   ]
  },
  {
   "cell_type": "code",
   "execution_count": null,
   "id": "687cfcd5-60e9-4bd3-8e46-cff06c96f901",
   "metadata": {},
   "outputs": [
    {
     "name": "stdout",
     "output_type": "stream",
     "text": [
      "MRI-ESM2-0\n"
     ]
    }
   ],
   "source": [
    "calc('MRI-ESM2-0')"
   ]
  },
  {
   "cell_type": "code",
   "execution_count": 9,
   "id": "651333bd-7f17-4860-8a7f-062f01c098c4",
   "metadata": {},
   "outputs": [
    {
     "name": "stdout",
     "output_type": "stream",
     "text": [
      "huss_day_CanESM5_abrupt-4xCO2_r1i1p1f1_gn_18500101-20001231.nc\n",
      "huss_day_CanESM5_abrupt-4xCO2_r1i1p1f1_gn_18500101-20001231.nc\n",
      "huss_day_CanESM5_piControl_r1i1p1f1_gn_52010101-54001231.nc\n",
      "huss_day_CanESM5_piControl_r1i1p1f1_gn_52010101-54001231.nc\n",
      "huss_day_CanESM5_piControl_r1i1p1f1_gn_52010101-54001231.nc\n",
      "huss_day_CanESM5_piControl_r1i1p1f1_gn_52010101-54001231.nc\n",
      "huss_day_CanESM5_piControl_r1i1p1f1_gn_54010101-56001231.nc\n",
      "huss_day_CanESM5_piControl_r1i1p1f1_gn_54010101-56001231.nc\n",
      "huss_day_CanESM5_piControl_r1i1p1f1_gn_54010101-56001231.nc\n",
      "huss_day_CanESM5_piControl_r1i1p1f1_gn_54010101-56001231.nc\n",
      "huss_day_CanESM5_piControl_r1i1p1f1_gn_56010101-58001231.nc\n",
      "huss_day_CanESM5_piControl_r1i1p1f1_gn_56010101-58001231.nc\n",
      "huss_day_CanESM5_piControl_r1i1p1f1_gn_56010101-58001231.nc\n",
      "huss_day_CanESM5_piControl_r1i1p1f1_gn_56010101-58001231.nc\n",
      "huss_day_CanESM5_piControl_r1i1p1f1_gn_58010101-60001231.nc\n",
      "huss_day_CanESM5_piControl_r1i1p1f1_gn_58010101-60001231.nc\n",
      "huss_day_CanESM5_piControl_r1i1p1f1_gn_58010101-60001231.nc\n",
      "huss_day_CanESM5_piControl_r1i1p1f1_gn_58010101-60001231.nc\n",
      "huss_day_CanESM5_piControl_r1i1p1f1_gn_60010101-62001231.nc\n",
      "huss_day_CanESM5_piControl_r1i1p1f1_gn_60010101-62001231.nc\n",
      "huss_day_CanESM5_piControl_r1i1p1f1_gn_60010101-62001231.nc\n",
      "huss_day_CanESM5_piControl_r1i1p1f1_gn_60010101-62001231.nc\n"
     ]
    },
    {
     "data": {
      "text/html": [
       "<div>\n",
       "<style scoped>\n",
       "    .dataframe tbody tr th:only-of-type {\n",
       "        vertical-align: middle;\n",
       "    }\n",
       "\n",
       "    .dataframe tbody tr th {\n",
       "        vertical-align: top;\n",
       "    }\n",
       "\n",
       "    .dataframe thead th {\n",
       "        text-align: right;\n",
       "    }\n",
       "</style>\n",
       "<table border=\"1\" class=\"dataframe\">\n",
       "  <thead>\n",
       "    <tr style=\"text-align: right;\">\n",
       "      <th></th>\n",
       "      <th>filename</th>\n",
       "      <th>download_url</th>\n",
       "      <th>opendap_url</th>\n",
       "    </tr>\n",
       "  </thead>\n",
       "  <tbody>\n",
       "    <tr>\n",
       "      <th>0</th>\n",
       "      <td>huss_day_CanESM5_piControl_r1i1p1f1_gn_5201010...</td>\n",
       "      <td>https://esgf.ceda.ac.uk/thredds/fileServer/esg...</td>\n",
       "      <td>https://esgf.ceda.ac.uk/thredds/dodsC/esg_cmip...</td>\n",
       "    </tr>\n",
       "    <tr>\n",
       "      <th>1</th>\n",
       "      <td>huss_day_CanESM5_piControl_r1i1p1f1_gn_5401010...</td>\n",
       "      <td>https://esgf.ceda.ac.uk/thredds/fileServer/esg...</td>\n",
       "      <td>https://esgf.ceda.ac.uk/thredds/dodsC/esg_cmip...</td>\n",
       "    </tr>\n",
       "    <tr>\n",
       "      <th>2</th>\n",
       "      <td>huss_day_CanESM5_piControl_r1i1p1f1_gn_5601010...</td>\n",
       "      <td>https://esgf.ceda.ac.uk/thredds/fileServer/esg...</td>\n",
       "      <td>https://esgf.ceda.ac.uk/thredds/dodsC/esg_cmip...</td>\n",
       "    </tr>\n",
       "    <tr>\n",
       "      <th>3</th>\n",
       "      <td>huss_day_CanESM5_piControl_r1i1p1f1_gn_5801010...</td>\n",
       "      <td>https://esgf.ceda.ac.uk/thredds/fileServer/esg...</td>\n",
       "      <td>https://esgf.ceda.ac.uk/thredds/dodsC/esg_cmip...</td>\n",
       "    </tr>\n",
       "    <tr>\n",
       "      <th>4</th>\n",
       "      <td>huss_day_CanESM5_piControl_r1i1p1f1_gn_6001010...</td>\n",
       "      <td>https://esgf.ceda.ac.uk/thredds/fileServer/esg...</td>\n",
       "      <td>https://esgf.ceda.ac.uk/thredds/dodsC/esg_cmip...</td>\n",
       "    </tr>\n",
       "    <tr>\n",
       "      <th>10</th>\n",
       "      <td>huss_day_CanESM5_abrupt-4xCO2_r1i1p1f1_gn_1850...</td>\n",
       "      <td>http://crd-esgf-drc.ec.gc.ca/thredds/fileServe...</td>\n",
       "      <td>http://crd-esgf-drc.ec.gc.ca/thredds/dodsC/esg...</td>\n",
       "    </tr>\n",
       "  </tbody>\n",
       "</table>\n",
       "</div>"
      ],
      "text/plain": [
       "                                             filename  \\\n",
       "0   huss_day_CanESM5_piControl_r1i1p1f1_gn_5201010...   \n",
       "1   huss_day_CanESM5_piControl_r1i1p1f1_gn_5401010...   \n",
       "2   huss_day_CanESM5_piControl_r1i1p1f1_gn_5601010...   \n",
       "3   huss_day_CanESM5_piControl_r1i1p1f1_gn_5801010...   \n",
       "4   huss_day_CanESM5_piControl_r1i1p1f1_gn_6001010...   \n",
       "10  huss_day_CanESM5_abrupt-4xCO2_r1i1p1f1_gn_1850...   \n",
       "\n",
       "                                         download_url  \\\n",
       "0   https://esgf.ceda.ac.uk/thredds/fileServer/esg...   \n",
       "1   https://esgf.ceda.ac.uk/thredds/fileServer/esg...   \n",
       "2   https://esgf.ceda.ac.uk/thredds/fileServer/esg...   \n",
       "3   https://esgf.ceda.ac.uk/thredds/fileServer/esg...   \n",
       "4   https://esgf.ceda.ac.uk/thredds/fileServer/esg...   \n",
       "10  http://crd-esgf-drc.ec.gc.ca/thredds/fileServe...   \n",
       "\n",
       "                                          opendap_url  \n",
       "0   https://esgf.ceda.ac.uk/thredds/dodsC/esg_cmip...  \n",
       "1   https://esgf.ceda.ac.uk/thredds/dodsC/esg_cmip...  \n",
       "2   https://esgf.ceda.ac.uk/thredds/dodsC/esg_cmip...  \n",
       "3   https://esgf.ceda.ac.uk/thredds/dodsC/esg_cmip...  \n",
       "4   https://esgf.ceda.ac.uk/thredds/dodsC/esg_cmip...  \n",
       "10  http://crd-esgf-drc.ec.gc.ca/thredds/dodsC/esg...  "
      ]
     },
     "execution_count": 9,
     "metadata": {},
     "output_type": "execute_result"
    }
   ],
   "source": [
    "for fname in files['filename'].sort_values(): # print in alphabetical order\n",
    "    print(fname)\n",
    "\n",
    "files = files.drop_duplicates('filename')\n",
    "files\n"
   ]
  },
  {
   "cell_type": "code",
   "execution_count": 26,
   "id": "f214e4fc-fe66-4340-9ba6-793b375489bf",
   "metadata": {},
   "outputs": [
    {
     "data": {
      "text/plain": [
       "[            model                                           filename  \\\n",
       " 0   AWI-CM-1-1-MR  huss_day_CanESM5_piControl_r1i1p1f1_gn_5201010...   \n",
       " 1   AWI-CM-1-1-MR  huss_day_CanESM5_piControl_r1i1p1f1_gn_5401010...   \n",
       " 2   AWI-CM-1-1-MR  huss_day_CanESM5_piControl_r1i1p1f1_gn_5601010...   \n",
       " 3   AWI-CM-1-1-MR  huss_day_CanESM5_piControl_r1i1p1f1_gn_5801010...   \n",
       " 4   AWI-CM-1-1-MR  huss_day_CanESM5_piControl_r1i1p1f1_gn_6001010...   \n",
       " 10  AWI-CM-1-1-MR  huss_day_CanESM5_abrupt-4xCO2_r1i1p1f1_gn_1850...   \n",
       " \n",
       "                                          download_url  \\\n",
       " 0   https://esgf.ceda.ac.uk/thredds/fileServer/esg...   \n",
       " 1   https://esgf.ceda.ac.uk/thredds/fileServer/esg...   \n",
       " 2   https://esgf.ceda.ac.uk/thredds/fileServer/esg...   \n",
       " 3   https://esgf.ceda.ac.uk/thredds/fileServer/esg...   \n",
       " 4   https://esgf.ceda.ac.uk/thredds/fileServer/esg...   \n",
       " 10  http://crd-esgf-drc.ec.gc.ca/thredds/fileServe...   \n",
       " \n",
       "                                           opendap_url  \n",
       " 0   https://esgf.ceda.ac.uk/thredds/dodsC/esg_cmip...  \n",
       " 1   https://esgf.ceda.ac.uk/thredds/dodsC/esg_cmip...  \n",
       " 2   https://esgf.ceda.ac.uk/thredds/dodsC/esg_cmip...  \n",
       " 3   https://esgf.ceda.ac.uk/thredds/dodsC/esg_cmip...  \n",
       " 4   https://esgf.ceda.ac.uk/thredds/dodsC/esg_cmip...  \n",
       " 10  http://crd-esgf-drc.ec.gc.ca/thredds/dodsC/esg...  ]"
      ]
     },
     "execution_count": 26,
     "metadata": {},
     "output_type": "execute_result"
    }
   ],
   "source": [
    "results"
   ]
  },
  {
   "cell_type": "code",
   "execution_count": null,
   "id": "467aacef-a759-4721-9756-6c0e9d9a9f8d",
   "metadata": {},
   "outputs": [],
   "source": []
  }
 ],
 "metadata": {
  "kernelspec": {
   "display_name": "Python 3 + Jaspy",
   "language": "python",
   "name": "jaspy"
  },
  "language_info": {
   "codemirror_mode": {
    "name": "ipython",
    "version": 3
   },
   "file_extension": ".py",
   "mimetype": "text/x-python",
   "name": "python",
   "nbconvert_exporter": "python",
   "pygments_lexer": "ipython3",
   "version": "3.11.9"
  }
 },
 "nbformat": 4,
 "nbformat_minor": 5
}
