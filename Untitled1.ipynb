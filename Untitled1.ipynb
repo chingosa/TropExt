{
 "cells": [
  {
   "cell_type": "code",
   "execution_count": null,
   "id": "4de2dc4c-2a52-46d2-b74f-f10424ad9a30",
   "metadata": {},
   "outputs": [],
   "source": []
  }
 ],
 "metadata": {
  "kernelspec": {
   "display_name": "RCEMIP-Analysis",
   "language": "python",
   "name": "rcemip-analysis"
  },
  "language_info": {
   "codemirror_mode": {
    "name": "ipython",
    "version": 3
   },
   "file_extension": ".py",
   "mimetype": "text/x-python",
   "name": "python",
   "nbconvert_exporter": "python",
   "pygments_lexer": "ipython3",
   "version": "3.11.9"
  }
 },
 "nbformat": 4,
 "nbformat_minor": 5
}
